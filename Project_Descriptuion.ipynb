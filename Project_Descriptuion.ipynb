{
  "nbformat": 4,
  "nbformat_minor": 0,
  "metadata": {
    "colab": {
      "name": "Project Descriptuion.ipynb",
      "provenance": [],
      "authorship_tag": "ABX9TyNqZM2zdTxIRxkPWkt0EPs8",
      "include_colab_link": true
    },
    "kernelspec": {
      "name": "python3",
      "display_name": "Python 3"
    },
    "language_info": {
      "name": "python"
    }
  },
  "cells": [
    {
      "cell_type": "markdown",
      "metadata": {
        "id": "view-in-github",
        "colab_type": "text"
      },
      "source": [
        "<a href=\"https://colab.research.google.com/github/henrygilbert22/CS-5260/blob/main/Project_Descriptuion.ipynb\" target=\"_parent\"><img src=\"https://colab.research.google.com/assets/colab-badge.svg\" alt=\"Open In Colab\"/></a>"
      ]
    },
    {
      "cell_type": "markdown",
      "source": [
        "# **PROPOSED PROJECT**\n",
        "\n",
        "**Background:**\n",
        "\n",
        "I work as the Head of Machine Learning for Copia Wealth Studios. I'm wholey underqualified for such a position and mostly have it due to luck and circumstances. Regardless, I work with machine learning daily and thus would like to take a project that pushes and expands my understanding of the field.\n",
        "\n",
        "**Description**\n",
        "\n",
        "I took the AI course last sememester and it was centered around creating a simulated 'game' environment. For a portion of the project I explored a RL model's ability to learn and exeucte in this given simulation. RL models is something I've worked on in the past and a simply deep-Q network is not difficult to implement. However, whilst I was iterating the model, I was frustered by the underutilization of compute power. I ran the simulation on my work server, and the three layer LSTM network of 100 neurons only utilized a fraction of the compute power. Thus, I would like to research and implement a novel techqnique for parallel computation and information sychronization in a evolutionary environment for RL models. I have lot's of potential ideas for this, but I would like to first do a formal literature review before diving in deeper. \n",
        "\n",
        "**Performance Metrics**\n",
        "\n",
        "As I am attempting to create a novel RL technique, the only real metric is my method's effecitivness in direct comparison with other RL techniques. Specifically, given the same RL problem, compare the converged final accuracy, the number of iterations, the training time and nessesary compute power.\n",
        "\n",
        "  "
      ],
      "metadata": {
        "id": "be_9tO1Rdu6s"
      }
    },
    {
      "cell_type": "code",
      "source": [
        ""
      ],
      "metadata": {
        "id": "NnSDBOnud-rr"
      },
      "execution_count": null,
      "outputs": []
    }
  ]
}