{
  "cells": [
    {
      "cell_type": "markdown",
      "metadata": {
        "id": "view-in-github",
        "colab_type": "text"
      },
      "source": [
        "<a href=\"https://colab.research.google.com/github/henrygilbert22/CS-5260/blob/main/week4_assignment.ipynb\" target=\"_parent\"><img src=\"https://colab.research.google.com/assets/colab-badge.svg\" alt=\"Open In Colab\"/></a>"
      ]
    },
    {
      "cell_type": "markdown",
      "id": "82ba5cb0-b81e-43ea-acfa-e661fff2572c",
      "metadata": {
        "id": "82ba5cb0-b81e-43ea-acfa-e661fff2572c"
      },
      "source": [
        "# CS 5262-51 Week 4 [ZHANG] Assignment Part 1\n",
        "\n",
        "## Instructions of Part 1 of this assignment:\n",
        "- Run all the cells in this notebook and observe the outputs as a refresher of the problem to be solved here and the process of producing a first few ML models. \n",
        "- Choose one model and build an ROC curve with the best threshold value indicated in the graph (like we did in class this week). \n",
        "- Now suppose that for each penguin whose sex is correctly identified, you'll be rewarded $50, and it will cost you $75 for each incorrectly identified penguin. What will be the new threshold in this case?\n",
        "- Add your code to the end of this notebook and submit the updated notebook **under Assignment 4 on Brightspace**\n",
        "\n",
        "*Optional Challenge Tasks*: \n",
        "1. Can you plot the precision_recall curve and identify the best general threshold (assuming there is no cost/benefit difference) for the classification task using the same model as above? \n",
        "2. (Extra challenge) Given the optimal threshold found in optional challenge task 1, produce a confusion matrix showing your new classification results using the same model as above, i.e., you can simply calculate the TP, FP, TN, and FN values"
      ]
    },
    {
      "cell_type": "markdown",
      "id": "3a251b12-73f7-4007-8f91-a866b8539ded",
      "metadata": {
        "id": "3a251b12-73f7-4007-8f91-a866b8539ded"
      },
      "source": [
        "This notebook demonstrates the usage of pipelines to promote best practices for Machine Learning in Python. As a reminder, below are the following best practices we should follow when performing Machine Learning in Python:\n",
        "\n",
        "1. Perform all pre-processing steps within cross-validation\n",
        "2. Measure model performance (and model selection) using cross-validation\n",
        "3. Follow literate programming practices to make code readable and make collaboration easier\n",
        "\n",
        "## Problem Formulation\n",
        "\n",
        "In this example, we will use Allison Horst's Palmer Penguins dataset, available here: https://github.com/allisonhorst/palmerpenguins.\n",
        "\n",
        "The dataset contains data on 344 penguins. There are three different species of penguins in the dataset, collected from three separate islands in the Palmer Archipelago, Antarctica. "
      ]
    },
    {
      "cell_type": "code",
      "execution_count": 1,
      "id": "5d51761d-af0e-411f-9375-54bcd91a62db",
      "metadata": {
        "id": "5d51761d-af0e-411f-9375-54bcd91a62db"
      },
      "outputs": [],
      "source": [
        "#tables and visualizations\n",
        "import pandas as pd\n",
        "import numpy as np\n",
        "import seaborn as sns\n",
        "import matplotlib.pyplot as plt\n",
        "\n",
        "#machine learning\n",
        "from sklearn.model_selection import train_test_split, GridSearchCV\n",
        "from sklearn.linear_model import LogisticRegression\n",
        "from sklearn.ensemble import RandomForestClassifier\n",
        "from sklearn.pipeline import Pipeline \n",
        "from sklearn.compose import ColumnTransformer, make_column_selector\n",
        "from sklearn.impute import SimpleImputer\n",
        "from sklearn.preprocessing import OneHotEncoder, LabelBinarizer, StandardScaler\n",
        "from sklearn import config_context\n",
        "from sklearn.metrics import classification_report, confusion_matrix, ConfusionMatrixDisplay"
      ]
    },
    {
      "cell_type": "markdown",
      "id": "87e69be8-1415-482e-adc2-4d71a697535b",
      "metadata": {
        "id": "87e69be8-1415-482e-adc2-4d71a697535b"
      },
      "source": [
        "## Load Data\n",
        "\n",
        "Here we first load the data into python using pandas and read it in as a pandas dataframe which is the format which we will use throughout the example. "
      ]
    },
    {
      "cell_type": "code",
      "execution_count": 2,
      "id": "6b347d70-2e7b-4cdc-a290-ace614045711",
      "metadata": {
        "colab": {
          "base_uri": "https://localhost:8080/",
          "height": 467
        },
        "id": "6b347d70-2e7b-4cdc-a290-ace614045711",
        "outputId": "bb5ecbef-e0c4-4a37-d543-8fe30e3dc30f"
      },
      "outputs": [
        {
          "output_type": "display_data",
          "data": {
            "text/plain": [
              "  species     island  bill_length_mm  bill_depth_mm  flipper_length_mm  \\\n",
              "0  Adelie  Torgersen            39.1           18.7              181.0   \n",
              "1  Adelie  Torgersen            39.5           17.4              186.0   \n",
              "2  Adelie  Torgersen            40.3           18.0              195.0   \n",
              "3  Adelie  Torgersen             NaN            NaN                NaN   \n",
              "4  Adelie  Torgersen            36.7           19.3              193.0   \n",
              "\n",
              "   body_mass_g     sex  year  \n",
              "0       3750.0    male  2007  \n",
              "1       3800.0  female  2007  \n",
              "2       3250.0  female  2007  \n",
              "3          NaN     NaN  2007  \n",
              "4       3450.0  female  2007  "
            ],
            "text/html": [
              "\n",
              "  <div id=\"df-876bdd30-9c96-49dc-8da6-efc0e207a639\">\n",
              "    <div class=\"colab-df-container\">\n",
              "      <div>\n",
              "<style scoped>\n",
              "    .dataframe tbody tr th:only-of-type {\n",
              "        vertical-align: middle;\n",
              "    }\n",
              "\n",
              "    .dataframe tbody tr th {\n",
              "        vertical-align: top;\n",
              "    }\n",
              "\n",
              "    .dataframe thead th {\n",
              "        text-align: right;\n",
              "    }\n",
              "</style>\n",
              "<table border=\"1\" class=\"dataframe\">\n",
              "  <thead>\n",
              "    <tr style=\"text-align: right;\">\n",
              "      <th></th>\n",
              "      <th>species</th>\n",
              "      <th>island</th>\n",
              "      <th>bill_length_mm</th>\n",
              "      <th>bill_depth_mm</th>\n",
              "      <th>flipper_length_mm</th>\n",
              "      <th>body_mass_g</th>\n",
              "      <th>sex</th>\n",
              "      <th>year</th>\n",
              "    </tr>\n",
              "  </thead>\n",
              "  <tbody>\n",
              "    <tr>\n",
              "      <th>0</th>\n",
              "      <td>Adelie</td>\n",
              "      <td>Torgersen</td>\n",
              "      <td>39.1</td>\n",
              "      <td>18.7</td>\n",
              "      <td>181.0</td>\n",
              "      <td>3750.0</td>\n",
              "      <td>male</td>\n",
              "      <td>2007</td>\n",
              "    </tr>\n",
              "    <tr>\n",
              "      <th>1</th>\n",
              "      <td>Adelie</td>\n",
              "      <td>Torgersen</td>\n",
              "      <td>39.5</td>\n",
              "      <td>17.4</td>\n",
              "      <td>186.0</td>\n",
              "      <td>3800.0</td>\n",
              "      <td>female</td>\n",
              "      <td>2007</td>\n",
              "    </tr>\n",
              "    <tr>\n",
              "      <th>2</th>\n",
              "      <td>Adelie</td>\n",
              "      <td>Torgersen</td>\n",
              "      <td>40.3</td>\n",
              "      <td>18.0</td>\n",
              "      <td>195.0</td>\n",
              "      <td>3250.0</td>\n",
              "      <td>female</td>\n",
              "      <td>2007</td>\n",
              "    </tr>\n",
              "    <tr>\n",
              "      <th>3</th>\n",
              "      <td>Adelie</td>\n",
              "      <td>Torgersen</td>\n",
              "      <td>NaN</td>\n",
              "      <td>NaN</td>\n",
              "      <td>NaN</td>\n",
              "      <td>NaN</td>\n",
              "      <td>NaN</td>\n",
              "      <td>2007</td>\n",
              "    </tr>\n",
              "    <tr>\n",
              "      <th>4</th>\n",
              "      <td>Adelie</td>\n",
              "      <td>Torgersen</td>\n",
              "      <td>36.7</td>\n",
              "      <td>19.3</td>\n",
              "      <td>193.0</td>\n",
              "      <td>3450.0</td>\n",
              "      <td>female</td>\n",
              "      <td>2007</td>\n",
              "    </tr>\n",
              "  </tbody>\n",
              "</table>\n",
              "</div>\n",
              "      <button class=\"colab-df-convert\" onclick=\"convertToInteractive('df-876bdd30-9c96-49dc-8da6-efc0e207a639')\"\n",
              "              title=\"Convert this dataframe to an interactive table.\"\n",
              "              style=\"display:none;\">\n",
              "        \n",
              "  <svg xmlns=\"http://www.w3.org/2000/svg\" height=\"24px\"viewBox=\"0 0 24 24\"\n",
              "       width=\"24px\">\n",
              "    <path d=\"M0 0h24v24H0V0z\" fill=\"none\"/>\n",
              "    <path d=\"M18.56 5.44l.94 2.06.94-2.06 2.06-.94-2.06-.94-.94-2.06-.94 2.06-2.06.94zm-11 1L8.5 8.5l.94-2.06 2.06-.94-2.06-.94L8.5 2.5l-.94 2.06-2.06.94zm10 10l.94 2.06.94-2.06 2.06-.94-2.06-.94-.94-2.06-.94 2.06-2.06.94z\"/><path d=\"M17.41 7.96l-1.37-1.37c-.4-.4-.92-.59-1.43-.59-.52 0-1.04.2-1.43.59L10.3 9.45l-7.72 7.72c-.78.78-.78 2.05 0 2.83L4 21.41c.39.39.9.59 1.41.59.51 0 1.02-.2 1.41-.59l7.78-7.78 2.81-2.81c.8-.78.8-2.07 0-2.86zM5.41 20L4 18.59l7.72-7.72 1.47 1.35L5.41 20z\"/>\n",
              "  </svg>\n",
              "      </button>\n",
              "      \n",
              "  <style>\n",
              "    .colab-df-container {\n",
              "      display:flex;\n",
              "      flex-wrap:wrap;\n",
              "      gap: 12px;\n",
              "    }\n",
              "\n",
              "    .colab-df-convert {\n",
              "      background-color: #E8F0FE;\n",
              "      border: none;\n",
              "      border-radius: 50%;\n",
              "      cursor: pointer;\n",
              "      display: none;\n",
              "      fill: #1967D2;\n",
              "      height: 32px;\n",
              "      padding: 0 0 0 0;\n",
              "      width: 32px;\n",
              "    }\n",
              "\n",
              "    .colab-df-convert:hover {\n",
              "      background-color: #E2EBFA;\n",
              "      box-shadow: 0px 1px 2px rgba(60, 64, 67, 0.3), 0px 1px 3px 1px rgba(60, 64, 67, 0.15);\n",
              "      fill: #174EA6;\n",
              "    }\n",
              "\n",
              "    [theme=dark] .colab-df-convert {\n",
              "      background-color: #3B4455;\n",
              "      fill: #D2E3FC;\n",
              "    }\n",
              "\n",
              "    [theme=dark] .colab-df-convert:hover {\n",
              "      background-color: #434B5C;\n",
              "      box-shadow: 0px 1px 3px 1px rgba(0, 0, 0, 0.15);\n",
              "      filter: drop-shadow(0px 1px 2px rgba(0, 0, 0, 0.3));\n",
              "      fill: #FFFFFF;\n",
              "    }\n",
              "  </style>\n",
              "\n",
              "      <script>\n",
              "        const buttonEl =\n",
              "          document.querySelector('#df-876bdd30-9c96-49dc-8da6-efc0e207a639 button.colab-df-convert');\n",
              "        buttonEl.style.display =\n",
              "          google.colab.kernel.accessAllowed ? 'block' : 'none';\n",
              "\n",
              "        async function convertToInteractive(key) {\n",
              "          const element = document.querySelector('#df-876bdd30-9c96-49dc-8da6-efc0e207a639');\n",
              "          const dataTable =\n",
              "            await google.colab.kernel.invokeFunction('convertToInteractive',\n",
              "                                                     [key], {});\n",
              "          if (!dataTable) return;\n",
              "\n",
              "          const docLinkHtml = 'Like what you see? Visit the ' +\n",
              "            '<a target=\"_blank\" href=https://colab.research.google.com/notebooks/data_table.ipynb>data table notebook</a>'\n",
              "            + ' to learn more about interactive tables.';\n",
              "          element.innerHTML = '';\n",
              "          dataTable['output_type'] = 'display_data';\n",
              "          await google.colab.output.renderOutput(dataTable, element);\n",
              "          const docLink = document.createElement('div');\n",
              "          docLink.innerHTML = docLinkHtml;\n",
              "          element.appendChild(docLink);\n",
              "        }\n",
              "      </script>\n",
              "    </div>\n",
              "  </div>\n",
              "  "
            ]
          },
          "metadata": {}
        },
        {
          "output_type": "stream",
          "name": "stdout",
          "text": [
            "<class 'pandas.core.frame.DataFrame'>\n",
            "RangeIndex: 344 entries, 0 to 343\n",
            "Data columns (total 8 columns):\n",
            " #   Column             Non-Null Count  Dtype  \n",
            "---  ------             --------------  -----  \n",
            " 0   species            344 non-null    object \n",
            " 1   island             344 non-null    object \n",
            " 2   bill_length_mm     342 non-null    float64\n",
            " 3   bill_depth_mm      342 non-null    float64\n",
            " 4   flipper_length_mm  342 non-null    float64\n",
            " 5   body_mass_g        342 non-null    float64\n",
            " 6   sex                333 non-null    object \n",
            " 7   year               344 non-null    int64  \n",
            "dtypes: float64(4), int64(1), object(3)\n",
            "memory usage: 21.6+ KB\n"
          ]
        }
      ],
      "source": [
        "penguins = pd.read_csv('https://raw.githubusercontent.com/allisonhorst/palmerpenguins/master/inst/extdata/penguins.csv')\n",
        "display(penguins.head())\n",
        "penguins.info()"
      ]
    },
    {
      "cell_type": "code",
      "execution_count": 3,
      "id": "107620e0-89ee-4f53-ac2e-dd0d03b15b66",
      "metadata": {
        "colab": {
          "base_uri": "https://localhost:8080/"
        },
        "id": "107620e0-89ee-4f53-ac2e-dd0d03b15b66",
        "outputId": "0614ab56-bcf1-473e-cb06-1c2777759496"
      },
      "outputs": [
        {
          "output_type": "execute_result",
          "data": {
            "text/plain": [
              "species               0\n",
              "island                0\n",
              "bill_length_mm        2\n",
              "bill_depth_mm         2\n",
              "flipper_length_mm     2\n",
              "body_mass_g           2\n",
              "sex                  11\n",
              "year                  0\n",
              "dtype: int64"
            ]
          },
          "metadata": {},
          "execution_count": 3
        }
      ],
      "source": [
        "penguins.isna().sum()"
      ]
    },
    {
      "cell_type": "markdown",
      "id": "f3200837-3b0e-42f5-aac2-c2dc6dec3fd0",
      "metadata": {
        "id": "f3200837-3b0e-42f5-aac2-c2dc6dec3fd0"
      },
      "source": [
        "## Data cleaning and EDA\n",
        "\n",
        "We can now explore our data. We leave this exercise to the reader. For now, we can observe that there are a few NA values which will likely need imputation. We'll wait for this step so that we can put it within our training loop. For now, we'll just drop all of the sex NAs out of the dataframe."
      ]
    },
    {
      "cell_type": "code",
      "execution_count": 4,
      "id": "ae42a8db-457d-4532-934b-b4be3e6ce33b",
      "metadata": {
        "colab": {
          "base_uri": "https://localhost:8080/"
        },
        "id": "ae42a8db-457d-4532-934b-b4be3e6ce33b",
        "outputId": "41458ab6-b64f-4abe-fa27-6d0cd8734d9f"
      },
      "outputs": [
        {
          "output_type": "execute_result",
          "data": {
            "text/plain": [
              "(333, 8)"
            ]
          },
          "metadata": {},
          "execution_count": 4
        }
      ],
      "source": [
        "penguins = penguins.dropna(subset=['sex'])\n",
        "penguins.shape"
      ]
    },
    {
      "cell_type": "code",
      "execution_count": 5,
      "id": "02c5bb25-8c26-47b0-b53c-f352babdb717",
      "metadata": {
        "id": "02c5bb25-8c26-47b0-b53c-f352babdb717"
      },
      "outputs": [],
      "source": [
        "class_column = 'sex'\n",
        "random_seed = 2435\n",
        "\n",
        "X_train, X_test, y_train, y_test = train_test_split(penguins.drop(columns=class_column), penguins[class_column],\n",
        "                                                   test_size=0.25, random_state=random_seed, stratify=penguins[class_column])"
      ]
    },
    {
      "cell_type": "markdown",
      "id": "9774a06c-3c40-48c0-8834-2570785a918f",
      "metadata": {
        "id": "9774a06c-3c40-48c0-8834-2570785a918f"
      },
      "source": [
        "Quick sanity check to make sure that everything seems correct:"
      ]
    },
    {
      "cell_type": "code",
      "execution_count": 6,
      "id": "2c32bbd1-5392-4281-a1a4-a38ed6dd6390",
      "metadata": {
        "colab": {
          "base_uri": "https://localhost:8080/",
          "height": 482
        },
        "id": "2c32bbd1-5392-4281-a1a4-a38ed6dd6390",
        "outputId": "e0dd816e-0cb5-4038-9fb1-d0fc74746606"
      },
      "outputs": [
        {
          "output_type": "stream",
          "name": "stdout",
          "text": [
            "On X train: \n",
            "X train dimensions:  (249, 7)\n"
          ]
        },
        {
          "output_type": "display_data",
          "data": {
            "text/plain": [
              "    species  island  bill_length_mm  bill_depth_mm  flipper_length_mm  \\\n",
              "101  Adelie  Biscoe            41.0           20.0              203.0   \n",
              "260  Gentoo  Biscoe            43.3           14.0              208.0   \n",
              "142  Adelie   Dream            32.1           15.5              188.0   \n",
              "155  Gentoo  Biscoe            50.0           15.2              218.0   \n",
              "136  Adelie   Dream            35.6           17.5              191.0   \n",
              "\n",
              "     body_mass_g  year  \n",
              "101       4725.0  2009  \n",
              "260       4575.0  2009  \n",
              "142       3050.0  2009  \n",
              "155       5700.0  2007  \n",
              "136       3175.0  2009  "
            ],
            "text/html": [
              "\n",
              "  <div id=\"df-d20d4def-c69b-407f-b962-29dd1dcf413a\">\n",
              "    <div class=\"colab-df-container\">\n",
              "      <div>\n",
              "<style scoped>\n",
              "    .dataframe tbody tr th:only-of-type {\n",
              "        vertical-align: middle;\n",
              "    }\n",
              "\n",
              "    .dataframe tbody tr th {\n",
              "        vertical-align: top;\n",
              "    }\n",
              "\n",
              "    .dataframe thead th {\n",
              "        text-align: right;\n",
              "    }\n",
              "</style>\n",
              "<table border=\"1\" class=\"dataframe\">\n",
              "  <thead>\n",
              "    <tr style=\"text-align: right;\">\n",
              "      <th></th>\n",
              "      <th>species</th>\n",
              "      <th>island</th>\n",
              "      <th>bill_length_mm</th>\n",
              "      <th>bill_depth_mm</th>\n",
              "      <th>flipper_length_mm</th>\n",
              "      <th>body_mass_g</th>\n",
              "      <th>year</th>\n",
              "    </tr>\n",
              "  </thead>\n",
              "  <tbody>\n",
              "    <tr>\n",
              "      <th>101</th>\n",
              "      <td>Adelie</td>\n",
              "      <td>Biscoe</td>\n",
              "      <td>41.0</td>\n",
              "      <td>20.0</td>\n",
              "      <td>203.0</td>\n",
              "      <td>4725.0</td>\n",
              "      <td>2009</td>\n",
              "    </tr>\n",
              "    <tr>\n",
              "      <th>260</th>\n",
              "      <td>Gentoo</td>\n",
              "      <td>Biscoe</td>\n",
              "      <td>43.3</td>\n",
              "      <td>14.0</td>\n",
              "      <td>208.0</td>\n",
              "      <td>4575.0</td>\n",
              "      <td>2009</td>\n",
              "    </tr>\n",
              "    <tr>\n",
              "      <th>142</th>\n",
              "      <td>Adelie</td>\n",
              "      <td>Dream</td>\n",
              "      <td>32.1</td>\n",
              "      <td>15.5</td>\n",
              "      <td>188.0</td>\n",
              "      <td>3050.0</td>\n",
              "      <td>2009</td>\n",
              "    </tr>\n",
              "    <tr>\n",
              "      <th>155</th>\n",
              "      <td>Gentoo</td>\n",
              "      <td>Biscoe</td>\n",
              "      <td>50.0</td>\n",
              "      <td>15.2</td>\n",
              "      <td>218.0</td>\n",
              "      <td>5700.0</td>\n",
              "      <td>2007</td>\n",
              "    </tr>\n",
              "    <tr>\n",
              "      <th>136</th>\n",
              "      <td>Adelie</td>\n",
              "      <td>Dream</td>\n",
              "      <td>35.6</td>\n",
              "      <td>17.5</td>\n",
              "      <td>191.0</td>\n",
              "      <td>3175.0</td>\n",
              "      <td>2009</td>\n",
              "    </tr>\n",
              "  </tbody>\n",
              "</table>\n",
              "</div>\n",
              "      <button class=\"colab-df-convert\" onclick=\"convertToInteractive('df-d20d4def-c69b-407f-b962-29dd1dcf413a')\"\n",
              "              title=\"Convert this dataframe to an interactive table.\"\n",
              "              style=\"display:none;\">\n",
              "        \n",
              "  <svg xmlns=\"http://www.w3.org/2000/svg\" height=\"24px\"viewBox=\"0 0 24 24\"\n",
              "       width=\"24px\">\n",
              "    <path d=\"M0 0h24v24H0V0z\" fill=\"none\"/>\n",
              "    <path d=\"M18.56 5.44l.94 2.06.94-2.06 2.06-.94-2.06-.94-.94-2.06-.94 2.06-2.06.94zm-11 1L8.5 8.5l.94-2.06 2.06-.94-2.06-.94L8.5 2.5l-.94 2.06-2.06.94zm10 10l.94 2.06.94-2.06 2.06-.94-2.06-.94-.94-2.06-.94 2.06-2.06.94z\"/><path d=\"M17.41 7.96l-1.37-1.37c-.4-.4-.92-.59-1.43-.59-.52 0-1.04.2-1.43.59L10.3 9.45l-7.72 7.72c-.78.78-.78 2.05 0 2.83L4 21.41c.39.39.9.59 1.41.59.51 0 1.02-.2 1.41-.59l7.78-7.78 2.81-2.81c.8-.78.8-2.07 0-2.86zM5.41 20L4 18.59l7.72-7.72 1.47 1.35L5.41 20z\"/>\n",
              "  </svg>\n",
              "      </button>\n",
              "      \n",
              "  <style>\n",
              "    .colab-df-container {\n",
              "      display:flex;\n",
              "      flex-wrap:wrap;\n",
              "      gap: 12px;\n",
              "    }\n",
              "\n",
              "    .colab-df-convert {\n",
              "      background-color: #E8F0FE;\n",
              "      border: none;\n",
              "      border-radius: 50%;\n",
              "      cursor: pointer;\n",
              "      display: none;\n",
              "      fill: #1967D2;\n",
              "      height: 32px;\n",
              "      padding: 0 0 0 0;\n",
              "      width: 32px;\n",
              "    }\n",
              "\n",
              "    .colab-df-convert:hover {\n",
              "      background-color: #E2EBFA;\n",
              "      box-shadow: 0px 1px 2px rgba(60, 64, 67, 0.3), 0px 1px 3px 1px rgba(60, 64, 67, 0.15);\n",
              "      fill: #174EA6;\n",
              "    }\n",
              "\n",
              "    [theme=dark] .colab-df-convert {\n",
              "      background-color: #3B4455;\n",
              "      fill: #D2E3FC;\n",
              "    }\n",
              "\n",
              "    [theme=dark] .colab-df-convert:hover {\n",
              "      background-color: #434B5C;\n",
              "      box-shadow: 0px 1px 3px 1px rgba(0, 0, 0, 0.15);\n",
              "      filter: drop-shadow(0px 1px 2px rgba(0, 0, 0, 0.3));\n",
              "      fill: #FFFFFF;\n",
              "    }\n",
              "  </style>\n",
              "\n",
              "      <script>\n",
              "        const buttonEl =\n",
              "          document.querySelector('#df-d20d4def-c69b-407f-b962-29dd1dcf413a button.colab-df-convert');\n",
              "        buttonEl.style.display =\n",
              "          google.colab.kernel.accessAllowed ? 'block' : 'none';\n",
              "\n",
              "        async function convertToInteractive(key) {\n",
              "          const element = document.querySelector('#df-d20d4def-c69b-407f-b962-29dd1dcf413a');\n",
              "          const dataTable =\n",
              "            await google.colab.kernel.invokeFunction('convertToInteractive',\n",
              "                                                     [key], {});\n",
              "          if (!dataTable) return;\n",
              "\n",
              "          const docLinkHtml = 'Like what you see? Visit the ' +\n",
              "            '<a target=\"_blank\" href=https://colab.research.google.com/notebooks/data_table.ipynb>data table notebook</a>'\n",
              "            + ' to learn more about interactive tables.';\n",
              "          element.innerHTML = '';\n",
              "          dataTable['output_type'] = 'display_data';\n",
              "          await google.colab.output.renderOutput(dataTable, element);\n",
              "          const docLink = document.createElement('div');\n",
              "          docLink.innerHTML = docLinkHtml;\n",
              "          element.appendChild(docLink);\n",
              "        }\n",
              "      </script>\n",
              "    </div>\n",
              "  </div>\n",
              "  "
            ]
          },
          "metadata": {}
        },
        {
          "output_type": "stream",
          "name": "stdout",
          "text": [
            "\n",
            "On X test: \n",
            "X test dimensions:  (84, 7)\n"
          ]
        },
        {
          "output_type": "display_data",
          "data": {
            "text/plain": [
              "       species     island  bill_length_mm  bill_depth_mm  flipper_length_mm  \\\n",
              "308  Chinstrap      Dream            42.5           16.7              187.0   \n",
              "120     Adelie  Torgersen            36.2           17.2              187.0   \n",
              "206     Gentoo     Biscoe            46.5           14.4              217.0   \n",
              "106     Adelie     Biscoe            38.6           17.2              199.0   \n",
              "99      Adelie      Dream            43.2           18.5              192.0   \n",
              "\n",
              "     body_mass_g  year  \n",
              "308       3350.0  2008  \n",
              "120       3150.0  2009  \n",
              "206       4900.0  2008  \n",
              "106       3750.0  2009  \n",
              "99        4100.0  2008  "
            ],
            "text/html": [
              "\n",
              "  <div id=\"df-8a0bc013-c7ee-4faa-86d4-9c517dbce990\">\n",
              "    <div class=\"colab-df-container\">\n",
              "      <div>\n",
              "<style scoped>\n",
              "    .dataframe tbody tr th:only-of-type {\n",
              "        vertical-align: middle;\n",
              "    }\n",
              "\n",
              "    .dataframe tbody tr th {\n",
              "        vertical-align: top;\n",
              "    }\n",
              "\n",
              "    .dataframe thead th {\n",
              "        text-align: right;\n",
              "    }\n",
              "</style>\n",
              "<table border=\"1\" class=\"dataframe\">\n",
              "  <thead>\n",
              "    <tr style=\"text-align: right;\">\n",
              "      <th></th>\n",
              "      <th>species</th>\n",
              "      <th>island</th>\n",
              "      <th>bill_length_mm</th>\n",
              "      <th>bill_depth_mm</th>\n",
              "      <th>flipper_length_mm</th>\n",
              "      <th>body_mass_g</th>\n",
              "      <th>year</th>\n",
              "    </tr>\n",
              "  </thead>\n",
              "  <tbody>\n",
              "    <tr>\n",
              "      <th>308</th>\n",
              "      <td>Chinstrap</td>\n",
              "      <td>Dream</td>\n",
              "      <td>42.5</td>\n",
              "      <td>16.7</td>\n",
              "      <td>187.0</td>\n",
              "      <td>3350.0</td>\n",
              "      <td>2008</td>\n",
              "    </tr>\n",
              "    <tr>\n",
              "      <th>120</th>\n",
              "      <td>Adelie</td>\n",
              "      <td>Torgersen</td>\n",
              "      <td>36.2</td>\n",
              "      <td>17.2</td>\n",
              "      <td>187.0</td>\n",
              "      <td>3150.0</td>\n",
              "      <td>2009</td>\n",
              "    </tr>\n",
              "    <tr>\n",
              "      <th>206</th>\n",
              "      <td>Gentoo</td>\n",
              "      <td>Biscoe</td>\n",
              "      <td>46.5</td>\n",
              "      <td>14.4</td>\n",
              "      <td>217.0</td>\n",
              "      <td>4900.0</td>\n",
              "      <td>2008</td>\n",
              "    </tr>\n",
              "    <tr>\n",
              "      <th>106</th>\n",
              "      <td>Adelie</td>\n",
              "      <td>Biscoe</td>\n",
              "      <td>38.6</td>\n",
              "      <td>17.2</td>\n",
              "      <td>199.0</td>\n",
              "      <td>3750.0</td>\n",
              "      <td>2009</td>\n",
              "    </tr>\n",
              "    <tr>\n",
              "      <th>99</th>\n",
              "      <td>Adelie</td>\n",
              "      <td>Dream</td>\n",
              "      <td>43.2</td>\n",
              "      <td>18.5</td>\n",
              "      <td>192.0</td>\n",
              "      <td>4100.0</td>\n",
              "      <td>2008</td>\n",
              "    </tr>\n",
              "  </tbody>\n",
              "</table>\n",
              "</div>\n",
              "      <button class=\"colab-df-convert\" onclick=\"convertToInteractive('df-8a0bc013-c7ee-4faa-86d4-9c517dbce990')\"\n",
              "              title=\"Convert this dataframe to an interactive table.\"\n",
              "              style=\"display:none;\">\n",
              "        \n",
              "  <svg xmlns=\"http://www.w3.org/2000/svg\" height=\"24px\"viewBox=\"0 0 24 24\"\n",
              "       width=\"24px\">\n",
              "    <path d=\"M0 0h24v24H0V0z\" fill=\"none\"/>\n",
              "    <path d=\"M18.56 5.44l.94 2.06.94-2.06 2.06-.94-2.06-.94-.94-2.06-.94 2.06-2.06.94zm-11 1L8.5 8.5l.94-2.06 2.06-.94-2.06-.94L8.5 2.5l-.94 2.06-2.06.94zm10 10l.94 2.06.94-2.06 2.06-.94-2.06-.94-.94-2.06-.94 2.06-2.06.94z\"/><path d=\"M17.41 7.96l-1.37-1.37c-.4-.4-.92-.59-1.43-.59-.52 0-1.04.2-1.43.59L10.3 9.45l-7.72 7.72c-.78.78-.78 2.05 0 2.83L4 21.41c.39.39.9.59 1.41.59.51 0 1.02-.2 1.41-.59l7.78-7.78 2.81-2.81c.8-.78.8-2.07 0-2.86zM5.41 20L4 18.59l7.72-7.72 1.47 1.35L5.41 20z\"/>\n",
              "  </svg>\n",
              "      </button>\n",
              "      \n",
              "  <style>\n",
              "    .colab-df-container {\n",
              "      display:flex;\n",
              "      flex-wrap:wrap;\n",
              "      gap: 12px;\n",
              "    }\n",
              "\n",
              "    .colab-df-convert {\n",
              "      background-color: #E8F0FE;\n",
              "      border: none;\n",
              "      border-radius: 50%;\n",
              "      cursor: pointer;\n",
              "      display: none;\n",
              "      fill: #1967D2;\n",
              "      height: 32px;\n",
              "      padding: 0 0 0 0;\n",
              "      width: 32px;\n",
              "    }\n",
              "\n",
              "    .colab-df-convert:hover {\n",
              "      background-color: #E2EBFA;\n",
              "      box-shadow: 0px 1px 2px rgba(60, 64, 67, 0.3), 0px 1px 3px 1px rgba(60, 64, 67, 0.15);\n",
              "      fill: #174EA6;\n",
              "    }\n",
              "\n",
              "    [theme=dark] .colab-df-convert {\n",
              "      background-color: #3B4455;\n",
              "      fill: #D2E3FC;\n",
              "    }\n",
              "\n",
              "    [theme=dark] .colab-df-convert:hover {\n",
              "      background-color: #434B5C;\n",
              "      box-shadow: 0px 1px 3px 1px rgba(0, 0, 0, 0.15);\n",
              "      filter: drop-shadow(0px 1px 2px rgba(0, 0, 0, 0.3));\n",
              "      fill: #FFFFFF;\n",
              "    }\n",
              "  </style>\n",
              "\n",
              "      <script>\n",
              "        const buttonEl =\n",
              "          document.querySelector('#df-8a0bc013-c7ee-4faa-86d4-9c517dbce990 button.colab-df-convert');\n",
              "        buttonEl.style.display =\n",
              "          google.colab.kernel.accessAllowed ? 'block' : 'none';\n",
              "\n",
              "        async function convertToInteractive(key) {\n",
              "          const element = document.querySelector('#df-8a0bc013-c7ee-4faa-86d4-9c517dbce990');\n",
              "          const dataTable =\n",
              "            await google.colab.kernel.invokeFunction('convertToInteractive',\n",
              "                                                     [key], {});\n",
              "          if (!dataTable) return;\n",
              "\n",
              "          const docLinkHtml = 'Like what you see? Visit the ' +\n",
              "            '<a target=\"_blank\" href=https://colab.research.google.com/notebooks/data_table.ipynb>data table notebook</a>'\n",
              "            + ' to learn more about interactive tables.';\n",
              "          element.innerHTML = '';\n",
              "          dataTable['output_type'] = 'display_data';\n",
              "          await google.colab.output.renderOutput(dataTable, element);\n",
              "          const docLink = document.createElement('div');\n",
              "          docLink.innerHTML = docLinkHtml;\n",
              "          element.appendChild(docLink);\n",
              "        }\n",
              "      </script>\n",
              "    </div>\n",
              "  </div>\n",
              "  "
            ]
          },
          "metadata": {}
        }
      ],
      "source": [
        "# X Train\n",
        "print('On X train: ')\n",
        "print('X train dimensions: ', X_train.shape)\n",
        "display(X_train.head())\n",
        "\n",
        "# X test\n",
        "print('\\nOn X test: ')\n",
        "print('X test dimensions: ', X_test.shape)\n",
        "display(X_test.head())"
      ]
    },
    {
      "cell_type": "code",
      "execution_count": 33,
      "id": "113d1ab3-739a-4e42-8500-92b6332b2475",
      "metadata": {
        "colab": {
          "base_uri": "https://localhost:8080/",
          "height": 312
        },
        "id": "113d1ab3-739a-4e42-8500-92b6332b2475",
        "outputId": "9231f397-ae1d-4096-a3cf-c3cd32ac0b85"
      },
      "outputs": [
        {
          "output_type": "stream",
          "name": "stdout",
          "text": [
            "On y train: \n",
            "y train dimensions:  (249,)\n"
          ]
        },
        {
          "output_type": "display_data",
          "data": {
            "text/plain": [
              "101      male\n",
              "260    female\n",
              "142    female\n",
              "155      male\n",
              "136    female\n",
              "Name: sex, dtype: object"
            ]
          },
          "metadata": {}
        },
        {
          "output_type": "stream",
          "name": "stdout",
          "text": [
            "\n",
            "On y test: \n",
            "y test dimensions:  (84,)\n"
          ]
        },
        {
          "output_type": "display_data",
          "data": {
            "text/plain": [
              "308    female\n",
              "120    female\n",
              "206    female\n",
              "106    female\n",
              "99       male\n",
              "Name: sex, dtype: object"
            ]
          },
          "metadata": {}
        }
      ],
      "source": [
        "# X Train\n",
        "print('On y train: ')\n",
        "print('y train dimensions: ', y_train.shape)\n",
        "display(y_train.head())\n",
        "\n",
        "# X test\n",
        "print('\\nOn y test: ')\n",
        "print('y test dimensions: ', y_test.shape)\n",
        "display(y_test.head())"
      ]
    },
    {
      "cell_type": "markdown",
      "id": "6a76f5d1-05a4-4f81-8608-099b3b20abef",
      "metadata": {
        "id": "6a76f5d1-05a4-4f81-8608-099b3b20abef"
      },
      "source": [
        "## Establish the training pipeline\n",
        "\n",
        "We can now establish the training pipeline for our models. Since this is a process we would need to repeat several times, it's good to essentially functionalize the process so we do not need to re-write redundant code. Here, we can impute some values that were missing, and encode any categorical values. Note that these pipelines will change according to the model and methodology you choose - additionally, the pipelines will also change depending on the data types of the columns in your dataset. "
      ]
    },
    {
      "cell_type": "code",
      "execution_count": 34,
      "id": "9ed44830-4039-4564-bde0-2b6661d672c5",
      "metadata": {
        "id": "9ed44830-4039-4564-bde0-2b6661d672c5"
      },
      "outputs": [],
      "source": [
        "#individual pipelines for differing datatypes\n",
        "cat_pipeline = Pipeline(steps=[('cat_impute', SimpleImputer(missing_values=np.nan, strategy='most_frequent')),\n",
        "                               ('onehot_cat', OneHotEncoder(drop='if_binary'))])\n",
        "num_pipeline = Pipeline(steps=[('impute_num', SimpleImputer(missing_values=np.nan, strategy='mean')),\n",
        "                               ('scale_num', StandardScaler())])"
      ]
    },
    {
      "cell_type": "code",
      "execution_count": 9,
      "id": "242c958a-894d-4259-9dfd-387ddf541144",
      "metadata": {
        "id": "242c958a-894d-4259-9dfd-387ddf541144"
      },
      "outputs": [],
      "source": [
        "#establish preprocessing pipeline by columns\n",
        "preproc = ColumnTransformer([('cat_pipe', cat_pipeline, make_column_selector(dtype_include=object)),\n",
        "                             ('num_pipe', num_pipeline, make_column_selector(dtype_include=np.number))],\n",
        "                             remainder='passthrough')"
      ]
    },
    {
      "cell_type": "code",
      "execution_count": 42,
      "id": "917a7dae-35ff-43b2-8186-dbe731d0f08d",
      "metadata": {
        "colab": {
          "base_uri": "https://localhost:8080/",
          "height": 227
        },
        "id": "917a7dae-35ff-43b2-8186-dbe731d0f08d",
        "outputId": "3ef44f80-6683-4435-f86c-ec0e9d6f0752"
      },
      "outputs": [
        {
          "output_type": "display_data",
          "data": {
            "text/plain": [
              "Pipeline(steps=[('preproc',\n",
              "                 ColumnTransformer(remainder='passthrough',\n",
              "                                   transformers=[('cat_pipe',\n",
              "                                                  Pipeline(steps=[('cat_impute',\n",
              "                                                                   SimpleImputer(strategy='most_frequent')),\n",
              "                                                                  ('onehot_cat',\n",
              "                                                                   OneHotEncoder(drop='if_binary'))]),\n",
              "                                                  <sklearn.compose._column_transformer.make_column_selector object at 0x7f74537d9910>),\n",
              "                                                 ('num_pipe',\n",
              "                                                  Pipeline(steps=[('impute_num',\n",
              "                                                                   SimpleImputer(strategy='median')),\n",
              "                                                                  ('scale_num',\n",
              "                                                                   StandardScaler())]),\n",
              "                                                  <sklearn.compose._column_transformer.make_column_selector object at 0x7f7453c60450>)])),\n",
              "                ('mdl',\n",
              "                 LogisticRegression(penalty='elasticnet', solver='saga',\n",
              "                                    tol=0.01))])"
            ],
            "text/html": [
              "<style>#sk-28bba41b-9115-46dc-b58d-83b0b211dc2e {color: black;background-color: white;}#sk-28bba41b-9115-46dc-b58d-83b0b211dc2e pre{padding: 0;}#sk-28bba41b-9115-46dc-b58d-83b0b211dc2e div.sk-toggleable {background-color: white;}#sk-28bba41b-9115-46dc-b58d-83b0b211dc2e label.sk-toggleable__label {cursor: pointer;display: block;width: 100%;margin-bottom: 0;padding: 0.3em;box-sizing: border-box;text-align: center;}#sk-28bba41b-9115-46dc-b58d-83b0b211dc2e label.sk-toggleable__label-arrow:before {content: \"▸\";float: left;margin-right: 0.25em;color: #696969;}#sk-28bba41b-9115-46dc-b58d-83b0b211dc2e label.sk-toggleable__label-arrow:hover:before {color: black;}#sk-28bba41b-9115-46dc-b58d-83b0b211dc2e div.sk-estimator:hover label.sk-toggleable__label-arrow:before {color: black;}#sk-28bba41b-9115-46dc-b58d-83b0b211dc2e div.sk-toggleable__content {max-height: 0;max-width: 0;overflow: hidden;text-align: left;background-color: #f0f8ff;}#sk-28bba41b-9115-46dc-b58d-83b0b211dc2e div.sk-toggleable__content pre {margin: 0.2em;color: black;border-radius: 0.25em;background-color: #f0f8ff;}#sk-28bba41b-9115-46dc-b58d-83b0b211dc2e input.sk-toggleable__control:checked~div.sk-toggleable__content {max-height: 200px;max-width: 100%;overflow: auto;}#sk-28bba41b-9115-46dc-b58d-83b0b211dc2e input.sk-toggleable__control:checked~label.sk-toggleable__label-arrow:before {content: \"▾\";}#sk-28bba41b-9115-46dc-b58d-83b0b211dc2e div.sk-estimator input.sk-toggleable__control:checked~label.sk-toggleable__label {background-color: #d4ebff;}#sk-28bba41b-9115-46dc-b58d-83b0b211dc2e div.sk-label input.sk-toggleable__control:checked~label.sk-toggleable__label {background-color: #d4ebff;}#sk-28bba41b-9115-46dc-b58d-83b0b211dc2e input.sk-hidden--visually {border: 0;clip: rect(1px 1px 1px 1px);clip: rect(1px, 1px, 1px, 1px);height: 1px;margin: -1px;overflow: hidden;padding: 0;position: absolute;width: 1px;}#sk-28bba41b-9115-46dc-b58d-83b0b211dc2e div.sk-estimator {font-family: monospace;background-color: #f0f8ff;border: 1px dotted black;border-radius: 0.25em;box-sizing: border-box;margin-bottom: 0.5em;}#sk-28bba41b-9115-46dc-b58d-83b0b211dc2e div.sk-estimator:hover {background-color: #d4ebff;}#sk-28bba41b-9115-46dc-b58d-83b0b211dc2e div.sk-parallel-item::after {content: \"\";width: 100%;border-bottom: 1px solid gray;flex-grow: 1;}#sk-28bba41b-9115-46dc-b58d-83b0b211dc2e div.sk-label:hover label.sk-toggleable__label {background-color: #d4ebff;}#sk-28bba41b-9115-46dc-b58d-83b0b211dc2e div.sk-serial::before {content: \"\";position: absolute;border-left: 1px solid gray;box-sizing: border-box;top: 2em;bottom: 0;left: 50%;}#sk-28bba41b-9115-46dc-b58d-83b0b211dc2e div.sk-serial {display: flex;flex-direction: column;align-items: center;background-color: white;padding-right: 0.2em;padding-left: 0.2em;}#sk-28bba41b-9115-46dc-b58d-83b0b211dc2e div.sk-item {z-index: 1;}#sk-28bba41b-9115-46dc-b58d-83b0b211dc2e div.sk-parallel {display: flex;align-items: stretch;justify-content: center;background-color: white;}#sk-28bba41b-9115-46dc-b58d-83b0b211dc2e div.sk-parallel::before {content: \"\";position: absolute;border-left: 1px solid gray;box-sizing: border-box;top: 2em;bottom: 0;left: 50%;}#sk-28bba41b-9115-46dc-b58d-83b0b211dc2e div.sk-parallel-item {display: flex;flex-direction: column;position: relative;background-color: white;}#sk-28bba41b-9115-46dc-b58d-83b0b211dc2e div.sk-parallel-item:first-child::after {align-self: flex-end;width: 50%;}#sk-28bba41b-9115-46dc-b58d-83b0b211dc2e div.sk-parallel-item:last-child::after {align-self: flex-start;width: 50%;}#sk-28bba41b-9115-46dc-b58d-83b0b211dc2e div.sk-parallel-item:only-child::after {width: 0;}#sk-28bba41b-9115-46dc-b58d-83b0b211dc2e div.sk-dashed-wrapped {border: 1px dashed gray;margin: 0 0.4em 0.5em 0.4em;box-sizing: border-box;padding-bottom: 0.4em;background-color: white;position: relative;}#sk-28bba41b-9115-46dc-b58d-83b0b211dc2e div.sk-label label {font-family: monospace;font-weight: bold;background-color: white;display: inline-block;line-height: 1.2em;}#sk-28bba41b-9115-46dc-b58d-83b0b211dc2e div.sk-label-container {position: relative;z-index: 2;text-align: center;}#sk-28bba41b-9115-46dc-b58d-83b0b211dc2e div.sk-container {/* jupyter's `normalize.less` sets `[hidden] { display: none; }` but bootstrap.min.css set `[hidden] { display: none !important; }` so we also need the `!important` here to be able to override the default hidden behavior on the sphinx rendered scikit-learn.org. See: https://github.com/scikit-learn/scikit-learn/issues/21755 */display: inline-block !important;position: relative;}#sk-28bba41b-9115-46dc-b58d-83b0b211dc2e div.sk-text-repr-fallback {display: none;}</style><div id=\"sk-28bba41b-9115-46dc-b58d-83b0b211dc2e\" class=\"sk-top-container\"><div class=\"sk-text-repr-fallback\"><pre>Pipeline(steps=[(&#x27;preproc&#x27;,\n",
              "                 ColumnTransformer(remainder=&#x27;passthrough&#x27;,\n",
              "                                   transformers=[(&#x27;cat_pipe&#x27;,\n",
              "                                                  Pipeline(steps=[(&#x27;cat_impute&#x27;,\n",
              "                                                                   SimpleImputer(strategy=&#x27;most_frequent&#x27;)),\n",
              "                                                                  (&#x27;onehot_cat&#x27;,\n",
              "                                                                   OneHotEncoder(drop=&#x27;if_binary&#x27;))]),\n",
              "                                                  &lt;sklearn.compose._column_transformer.make_column_selector object at 0x7f74537d9910&gt;),\n",
              "                                                 (&#x27;num_pipe&#x27;,\n",
              "                                                  Pipeline(steps=[(&#x27;impute_num&#x27;,\n",
              "                                                                   SimpleImputer(strategy=&#x27;median&#x27;)),\n",
              "                                                                  (&#x27;scale_num&#x27;,\n",
              "                                                                   StandardScaler())]),\n",
              "                                                  &lt;sklearn.compose._column_transformer.make_column_selector object at 0x7f7453c60450&gt;)])),\n",
              "                (&#x27;mdl&#x27;,\n",
              "                 LogisticRegression(penalty=&#x27;elasticnet&#x27;, solver=&#x27;saga&#x27;,\n",
              "                                    tol=0.01))])</pre><b>Please rerun this cell to show the HTML repr or trust the notebook.</b></div><div class=\"sk-container\" hidden><div class=\"sk-item sk-dashed-wrapped\"><div class=\"sk-label-container\"><div class=\"sk-label sk-toggleable\"><input class=\"sk-toggleable__control sk-hidden--visually\" id=\"951b9bc6-774a-4647-b51f-88fd502331da\" type=\"checkbox\" ><label for=\"951b9bc6-774a-4647-b51f-88fd502331da\" class=\"sk-toggleable__label sk-toggleable__label-arrow\">Pipeline</label><div class=\"sk-toggleable__content\"><pre>Pipeline(steps=[(&#x27;preproc&#x27;,\n",
              "                 ColumnTransformer(remainder=&#x27;passthrough&#x27;,\n",
              "                                   transformers=[(&#x27;cat_pipe&#x27;,\n",
              "                                                  Pipeline(steps=[(&#x27;cat_impute&#x27;,\n",
              "                                                                   SimpleImputer(strategy=&#x27;most_frequent&#x27;)),\n",
              "                                                                  (&#x27;onehot_cat&#x27;,\n",
              "                                                                   OneHotEncoder(drop=&#x27;if_binary&#x27;))]),\n",
              "                                                  &lt;sklearn.compose._column_transformer.make_column_selector object at 0x7f74537d9910&gt;),\n",
              "                                                 (&#x27;num_pipe&#x27;,\n",
              "                                                  Pipeline(steps=[(&#x27;impute_num&#x27;,\n",
              "                                                                   SimpleImputer(strategy=&#x27;median&#x27;)),\n",
              "                                                                  (&#x27;scale_num&#x27;,\n",
              "                                                                   StandardScaler())]),\n",
              "                                                  &lt;sklearn.compose._column_transformer.make_column_selector object at 0x7f7453c60450&gt;)])),\n",
              "                (&#x27;mdl&#x27;,\n",
              "                 LogisticRegression(penalty=&#x27;elasticnet&#x27;, solver=&#x27;saga&#x27;,\n",
              "                                    tol=0.01))])</pre></div></div></div><div class=\"sk-serial\"><div class=\"sk-item sk-dashed-wrapped\"><div class=\"sk-label-container\"><div class=\"sk-label sk-toggleable\"><input class=\"sk-toggleable__control sk-hidden--visually\" id=\"c7963cf4-2e1c-4047-898f-aec6f3f1bcc1\" type=\"checkbox\" ><label for=\"c7963cf4-2e1c-4047-898f-aec6f3f1bcc1\" class=\"sk-toggleable__label sk-toggleable__label-arrow\">preproc: ColumnTransformer</label><div class=\"sk-toggleable__content\"><pre>ColumnTransformer(remainder=&#x27;passthrough&#x27;,\n",
              "                  transformers=[(&#x27;cat_pipe&#x27;,\n",
              "                                 Pipeline(steps=[(&#x27;cat_impute&#x27;,\n",
              "                                                  SimpleImputer(strategy=&#x27;most_frequent&#x27;)),\n",
              "                                                 (&#x27;onehot_cat&#x27;,\n",
              "                                                  OneHotEncoder(drop=&#x27;if_binary&#x27;))]),\n",
              "                                 &lt;sklearn.compose._column_transformer.make_column_selector object at 0x7f74537d9910&gt;),\n",
              "                                (&#x27;num_pipe&#x27;,\n",
              "                                 Pipeline(steps=[(&#x27;impute_num&#x27;,\n",
              "                                                  SimpleImputer(strategy=&#x27;median&#x27;)),\n",
              "                                                 (&#x27;scale_num&#x27;,\n",
              "                                                  StandardScaler())]),\n",
              "                                 &lt;sklearn.compose._column_transformer.make_column_selector object at 0x7f7453c60450&gt;)])</pre></div></div></div><div class=\"sk-parallel\"><div class=\"sk-parallel-item\"><div class=\"sk-item\"><div class=\"sk-label-container\"><div class=\"sk-label sk-toggleable\"><input class=\"sk-toggleable__control sk-hidden--visually\" id=\"7306bb25-ebbe-4821-942d-31721820081e\" type=\"checkbox\" ><label for=\"7306bb25-ebbe-4821-942d-31721820081e\" class=\"sk-toggleable__label sk-toggleable__label-arrow\">cat_pipe</label><div class=\"sk-toggleable__content\"><pre>&lt;sklearn.compose._column_transformer.make_column_selector object at 0x7f74537d9910&gt;</pre></div></div></div><div class=\"sk-serial\"><div class=\"sk-item\"><div class=\"sk-serial\"><div class=\"sk-item\"><div class=\"sk-estimator sk-toggleable\"><input class=\"sk-toggleable__control sk-hidden--visually\" id=\"aec83d6b-81d4-4211-8027-26848dcf831c\" type=\"checkbox\" ><label for=\"aec83d6b-81d4-4211-8027-26848dcf831c\" class=\"sk-toggleable__label sk-toggleable__label-arrow\">SimpleImputer</label><div class=\"sk-toggleable__content\"><pre>SimpleImputer(strategy=&#x27;most_frequent&#x27;)</pre></div></div></div><div class=\"sk-item\"><div class=\"sk-estimator sk-toggleable\"><input class=\"sk-toggleable__control sk-hidden--visually\" id=\"2dea497f-8f36-4cc8-ace6-e196d3652b78\" type=\"checkbox\" ><label for=\"2dea497f-8f36-4cc8-ace6-e196d3652b78\" class=\"sk-toggleable__label sk-toggleable__label-arrow\">OneHotEncoder</label><div class=\"sk-toggleable__content\"><pre>OneHotEncoder(drop=&#x27;if_binary&#x27;)</pre></div></div></div></div></div></div></div></div><div class=\"sk-parallel-item\"><div class=\"sk-item\"><div class=\"sk-label-container\"><div class=\"sk-label sk-toggleable\"><input class=\"sk-toggleable__control sk-hidden--visually\" id=\"66b2baa3-5c42-4da9-94e1-135f0495680e\" type=\"checkbox\" ><label for=\"66b2baa3-5c42-4da9-94e1-135f0495680e\" class=\"sk-toggleable__label sk-toggleable__label-arrow\">num_pipe</label><div class=\"sk-toggleable__content\"><pre>&lt;sklearn.compose._column_transformer.make_column_selector object at 0x7f7453c60450&gt;</pre></div></div></div><div class=\"sk-serial\"><div class=\"sk-item\"><div class=\"sk-serial\"><div class=\"sk-item\"><div class=\"sk-estimator sk-toggleable\"><input class=\"sk-toggleable__control sk-hidden--visually\" id=\"d4c1bab5-7877-4652-aa39-417116891f34\" type=\"checkbox\" ><label for=\"d4c1bab5-7877-4652-aa39-417116891f34\" class=\"sk-toggleable__label sk-toggleable__label-arrow\">SimpleImputer</label><div class=\"sk-toggleable__content\"><pre>SimpleImputer(strategy=&#x27;median&#x27;)</pre></div></div></div><div class=\"sk-item\"><div class=\"sk-estimator sk-toggleable\"><input class=\"sk-toggleable__control sk-hidden--visually\" id=\"3fd47315-ac0f-45fd-a921-3c3b7fe9e05b\" type=\"checkbox\" ><label for=\"3fd47315-ac0f-45fd-a921-3c3b7fe9e05b\" class=\"sk-toggleable__label sk-toggleable__label-arrow\">StandardScaler</label><div class=\"sk-toggleable__content\"><pre>StandardScaler()</pre></div></div></div></div></div></div></div></div><div class=\"sk-parallel-item\"><div class=\"sk-item\"><div class=\"sk-label-container\"><div class=\"sk-label sk-toggleable\"><input class=\"sk-toggleable__control sk-hidden--visually\" id=\"8b32bf21-c463-4845-ab28-a2ce0a87f997\" type=\"checkbox\" ><label for=\"8b32bf21-c463-4845-ab28-a2ce0a87f997\" class=\"sk-toggleable__label sk-toggleable__label-arrow\">remainder</label><div class=\"sk-toggleable__content\"><pre></pre></div></div></div><div class=\"sk-serial\"><div class=\"sk-item\"><div class=\"sk-estimator sk-toggleable\"><input class=\"sk-toggleable__control sk-hidden--visually\" id=\"a5d8234b-b877-4308-a26c-64da6050a701\" type=\"checkbox\" ><label for=\"a5d8234b-b877-4308-a26c-64da6050a701\" class=\"sk-toggleable__label sk-toggleable__label-arrow\">passthrough</label><div class=\"sk-toggleable__content\"><pre>passthrough</pre></div></div></div></div></div></div></div></div><div class=\"sk-item\"><div class=\"sk-estimator sk-toggleable\"><input class=\"sk-toggleable__control sk-hidden--visually\" id=\"0090c68e-713f-43eb-ace4-854347388bbf\" type=\"checkbox\" ><label for=\"0090c68e-713f-43eb-ace4-854347388bbf\" class=\"sk-toggleable__label sk-toggleable__label-arrow\">LogisticRegression</label><div class=\"sk-toggleable__content\"><pre>LogisticRegression(penalty=&#x27;elasticnet&#x27;, solver=&#x27;saga&#x27;, tol=0.01)</pre></div></div></div></div></div></div></div>"
            ]
          },
          "metadata": {}
        }
      ],
      "source": [
        "#generate the whole modeling pipeline with preprocessing\n",
        "pipe = Pipeline(steps=[('preproc', preproc),\n",
        "                       ('mdl', LogisticRegression(penalty='elasticnet', solver='saga', tol=0.01))])\n",
        "\n",
        "#visualization for steps\n",
        "with config_context(display='diagram'):\n",
        "    display(pipe)"
      ]
    },
    {
      "cell_type": "markdown",
      "id": "32517c21-62d6-4d8c-81ad-aa08a3199ff3",
      "metadata": {
        "id": "32517c21-62d6-4d8c-81ad-aa08a3199ff3"
      },
      "source": [
        "## Cross-validation with hyperparameter tuning\n",
        "\n",
        "Now that we have our pipelines, we can now use this as part of cross validation and hyperparameter tuning."
      ]
    },
    {
      "cell_type": "code",
      "execution_count": 43,
      "id": "f94e90d0-7785-48f4-a0cd-ff37090a92d9",
      "metadata": {
        "id": "f94e90d0-7785-48f4-a0cd-ff37090a92d9"
      },
      "outputs": [],
      "source": [
        "tuning_grid = {'mdl__l1_ratio' : np.linspace(0,1,5),\n",
        "               'mdl__C': np.logspace(-1, 6, 3) }\n",
        "grid_search = GridSearchCV(pipe, param_grid = tuning_grid, cv = 5, return_train_score=True)"
      ]
    },
    {
      "cell_type": "code",
      "execution_count": 44,
      "id": "4b612b9e-e561-47c9-9ecb-8ea5ec62cda9",
      "metadata": {
        "colab": {
          "base_uri": "https://localhost:8080/"
        },
        "id": "4b612b9e-e561-47c9-9ecb-8ea5ec62cda9",
        "outputId": "0e4f2fa4-77b2-455b-88d2-ec656b3d6786"
      },
      "outputs": [
        {
          "output_type": "execute_result",
          "data": {
            "text/plain": [
              "{'mdl__C': array([1.00000000e-01, 3.16227766e+02, 1.00000000e+06]),\n",
              " 'mdl__l1_ratio': array([0.  , 0.25, 0.5 , 0.75, 1.  ])}"
            ]
          },
          "metadata": {},
          "execution_count": 44
        }
      ],
      "source": [
        "tuning_grid"
      ]
    },
    {
      "cell_type": "code",
      "execution_count": 45,
      "id": "e8f2cb02-c5eb-4fd4-9331-050191081014",
      "metadata": {
        "colab": {
          "base_uri": "https://localhost:8080/"
        },
        "id": "e8f2cb02-c5eb-4fd4-9331-050191081014",
        "outputId": "152e70f0-f4de-407e-86ef-616b2261550e"
      },
      "outputs": [
        {
          "output_type": "execute_result",
          "data": {
            "text/plain": [
              "GridSearchCV(cv=5,\n",
              "             estimator=Pipeline(steps=[('preproc',\n",
              "                                        ColumnTransformer(remainder='passthrough',\n",
              "                                                          transformers=[('cat_pipe',\n",
              "                                                                         Pipeline(steps=[('cat_impute',\n",
              "                                                                                          SimpleImputer(strategy='most_frequent')),\n",
              "                                                                                         ('onehot_cat',\n",
              "                                                                                          OneHotEncoder(drop='if_binary'))]),\n",
              "                                                                         <sklearn.compose._column_transformer.make_column_selector object at 0x7f74537d9910>),\n",
              "                                                                        ('num_pipe',\n",
              "                                                                         Pipeline(step...\n",
              "                                                                                          SimpleImputer(strategy='median')),\n",
              "                                                                                         ('scale_num',\n",
              "                                                                                          StandardScaler())]),\n",
              "                                                                         <sklearn.compose._column_transformer.make_column_selector object at 0x7f7453c60450>)])),\n",
              "                                       ('mdl',\n",
              "                                        LogisticRegression(penalty='elasticnet',\n",
              "                                                           solver='saga',\n",
              "                                                           tol=0.01))]),\n",
              "             param_grid={'mdl__C': array([1.00000000e-01, 3.16227766e+02, 1.00000000e+06]),\n",
              "                         'mdl__l1_ratio': array([0.  , 0.25, 0.5 , 0.75, 1.  ])},\n",
              "             return_train_score=True)"
            ]
          },
          "metadata": {},
          "execution_count": 45
        }
      ],
      "source": [
        "grid_search.fit(X_train, y_train)"
      ]
    },
    {
      "cell_type": "code",
      "execution_count": 46,
      "id": "69f4874e-0de3-462f-95ef-d01ba648f7a4",
      "metadata": {
        "colab": {
          "base_uri": "https://localhost:8080/"
        },
        "id": "69f4874e-0de3-462f-95ef-d01ba648f7a4",
        "outputId": "3c46059e-274e-4d7a-96c7-10fdb93c218b"
      },
      "outputs": [
        {
          "output_type": "stream",
          "name": "stdout",
          "text": [
            "0.9158367346938775\n"
          ]
        },
        {
          "output_type": "execute_result",
          "data": {
            "text/plain": [
              "{'mdl__C': 316.22776601683796, 'mdl__l1_ratio': 0.0}"
            ]
          },
          "metadata": {},
          "execution_count": 46
        }
      ],
      "source": [
        "print(grid_search.best_score_)\n",
        "grid_search.best_params_"
      ]
    },
    {
      "cell_type": "code",
      "execution_count": 47,
      "id": "f9529343-553b-417d-9347-fec243edd4d2",
      "metadata": {
        "colab": {
          "base_uri": "https://localhost:8080/",
          "height": 960
        },
        "id": "f9529343-553b-417d-9347-fec243edd4d2",
        "outputId": "451ee1c7-208d-4997-8a4f-2ce26358c85a"
      },
      "outputs": [
        {
          "output_type": "execute_result",
          "data": {
            "text/plain": [
              "    mean_fit_time  std_fit_time  mean_score_time  std_score_time param_mdl__C  \\\n",
              "0        0.018259      0.003923         0.006088        0.000481          0.1   \n",
              "1        0.015626      0.001485         0.006773        0.001712          0.1   \n",
              "2        0.020940      0.003029         0.007489        0.000855          0.1   \n",
              "3        0.017940      0.000945         0.007185        0.000434          0.1   \n",
              "4        0.016583      0.000813         0.006649        0.000231          0.1   \n",
              "5        0.017876      0.000523         0.007280        0.000602   316.227766   \n",
              "6        0.021819      0.005127         0.007409        0.000387   316.227766   \n",
              "7        0.018827      0.000723         0.007247        0.000209   316.227766   \n",
              "8        0.020392      0.002785         0.008078        0.000807   316.227766   \n",
              "9        0.022014      0.004729         0.008503        0.001642   316.227766   \n",
              "10       0.022804      0.007458         0.008715        0.002362    1000000.0   \n",
              "11       0.019428      0.001706         0.007661        0.000570    1000000.0   \n",
              "12       0.022874      0.002915         0.008600        0.001261    1000000.0   \n",
              "13       0.018226      0.000533         0.007325        0.000489    1000000.0   \n",
              "14       0.018992      0.000581         0.007603        0.000675    1000000.0   \n",
              "\n",
              "   param_mdl__l1_ratio                                             params  \\\n",
              "0                  0.0              {'mdl__C': 0.1, 'mdl__l1_ratio': 0.0}   \n",
              "1                 0.25             {'mdl__C': 0.1, 'mdl__l1_ratio': 0.25}   \n",
              "2                  0.5              {'mdl__C': 0.1, 'mdl__l1_ratio': 0.5}   \n",
              "3                 0.75             {'mdl__C': 0.1, 'mdl__l1_ratio': 0.75}   \n",
              "4                  1.0              {'mdl__C': 0.1, 'mdl__l1_ratio': 1.0}   \n",
              "5                  0.0  {'mdl__C': 316.22776601683796, 'mdl__l1_ratio'...   \n",
              "6                 0.25  {'mdl__C': 316.22776601683796, 'mdl__l1_ratio'...   \n",
              "7                  0.5  {'mdl__C': 316.22776601683796, 'mdl__l1_ratio'...   \n",
              "8                 0.75  {'mdl__C': 316.22776601683796, 'mdl__l1_ratio'...   \n",
              "9                  1.0  {'mdl__C': 316.22776601683796, 'mdl__l1_ratio'...   \n",
              "10                 0.0        {'mdl__C': 1000000.0, 'mdl__l1_ratio': 0.0}   \n",
              "11                0.25       {'mdl__C': 1000000.0, 'mdl__l1_ratio': 0.25}   \n",
              "12                 0.5        {'mdl__C': 1000000.0, 'mdl__l1_ratio': 0.5}   \n",
              "13                0.75       {'mdl__C': 1000000.0, 'mdl__l1_ratio': 0.75}   \n",
              "14                 1.0        {'mdl__C': 1000000.0, 'mdl__l1_ratio': 1.0}   \n",
              "\n",
              "    split0_test_score  split1_test_score  split2_test_score  ...  \\\n",
              "0                0.90               0.90               0.92  ...   \n",
              "1                0.90               0.90               0.92  ...   \n",
              "2                0.92               0.88               0.90  ...   \n",
              "3                0.92               0.88               0.90  ...   \n",
              "4                0.88               0.90               0.90  ...   \n",
              "5                0.90               0.90               0.92  ...   \n",
              "6                0.90               0.90               0.92  ...   \n",
              "7                0.90               0.90               0.92  ...   \n",
              "8                0.90               0.90               0.92  ...   \n",
              "9                0.90               0.90               0.92  ...   \n",
              "10               0.90               0.90               0.92  ...   \n",
              "11               0.90               0.90               0.92  ...   \n",
              "12               0.90               0.90               0.92  ...   \n",
              "13               0.90               0.90               0.92  ...   \n",
              "14               0.90               0.90               0.92  ...   \n",
              "\n",
              "    mean_test_score  std_test_score  rank_test_score  split0_train_score  \\\n",
              "0          0.903673        0.014628               11            0.894472   \n",
              "1          0.899673        0.021619               13            0.889447   \n",
              "2          0.899837        0.039756               12            0.894472   \n",
              "3          0.899673        0.017532               13            0.904523   \n",
              "4          0.895673        0.014448               15            0.904523   \n",
              "5          0.915837        0.023016                1            0.929648   \n",
              "6          0.915837        0.023016                1            0.929648   \n",
              "7          0.915837        0.023016                1            0.929648   \n",
              "8          0.915837        0.023016                1            0.929648   \n",
              "9          0.915837        0.023016                1            0.929648   \n",
              "10         0.915837        0.023016                1            0.929648   \n",
              "11         0.915837        0.023016                1            0.929648   \n",
              "12         0.915837        0.023016                1            0.929648   \n",
              "13         0.915837        0.023016                1            0.929648   \n",
              "14         0.915837        0.023016                1            0.929648   \n",
              "\n",
              "    split1_train_score  split2_train_score  split3_train_score  \\\n",
              "0             0.909548            0.909548            0.909548   \n",
              "1             0.909548            0.904523            0.919598   \n",
              "2             0.904523            0.884422            0.909548   \n",
              "3             0.914573            0.909548            0.909548   \n",
              "4             0.889447            0.899497            0.899497   \n",
              "5             0.929648            0.939698            0.939698   \n",
              "6             0.929648            0.939698            0.939698   \n",
              "7             0.929648            0.939698            0.939698   \n",
              "8             0.929648            0.939698            0.939698   \n",
              "9             0.929648            0.939698            0.939698   \n",
              "10            0.929648            0.939698            0.939698   \n",
              "11            0.929648            0.939698            0.939698   \n",
              "12            0.929648            0.939698            0.939698   \n",
              "13            0.929648            0.939698            0.939698   \n",
              "14            0.929648            0.939698            0.939698   \n",
              "\n",
              "    split4_train_score  mean_train_score  std_train_score  \n",
              "0                0.900          0.904623         0.006280  \n",
              "1                0.900          0.904623         0.010002  \n",
              "2                0.900          0.898593         0.008660  \n",
              "3                0.885          0.904638         0.010321  \n",
              "4                0.885          0.895593         0.007214  \n",
              "5                0.910          0.929739         0.010845  \n",
              "6                0.915          0.930739         0.009062  \n",
              "7                0.915          0.930739         0.009062  \n",
              "8                0.915          0.930739         0.009062  \n",
              "9                0.915          0.930739         0.009062  \n",
              "10               0.915          0.930739         0.009062  \n",
              "11               0.915          0.930739         0.009062  \n",
              "12               0.915          0.930739         0.009062  \n",
              "13               0.915          0.930739         0.009062  \n",
              "14               0.915          0.930739         0.009062  \n",
              "\n",
              "[15 rows x 22 columns]"
            ],
            "text/html": [
              "\n",
              "  <div id=\"df-a89fc686-7c90-4164-996d-56f190263e7f\">\n",
              "    <div class=\"colab-df-container\">\n",
              "      <div>\n",
              "<style scoped>\n",
              "    .dataframe tbody tr th:only-of-type {\n",
              "        vertical-align: middle;\n",
              "    }\n",
              "\n",
              "    .dataframe tbody tr th {\n",
              "        vertical-align: top;\n",
              "    }\n",
              "\n",
              "    .dataframe thead th {\n",
              "        text-align: right;\n",
              "    }\n",
              "</style>\n",
              "<table border=\"1\" class=\"dataframe\">\n",
              "  <thead>\n",
              "    <tr style=\"text-align: right;\">\n",
              "      <th></th>\n",
              "      <th>mean_fit_time</th>\n",
              "      <th>std_fit_time</th>\n",
              "      <th>mean_score_time</th>\n",
              "      <th>std_score_time</th>\n",
              "      <th>param_mdl__C</th>\n",
              "      <th>param_mdl__l1_ratio</th>\n",
              "      <th>params</th>\n",
              "      <th>split0_test_score</th>\n",
              "      <th>split1_test_score</th>\n",
              "      <th>split2_test_score</th>\n",
              "      <th>...</th>\n",
              "      <th>mean_test_score</th>\n",
              "      <th>std_test_score</th>\n",
              "      <th>rank_test_score</th>\n",
              "      <th>split0_train_score</th>\n",
              "      <th>split1_train_score</th>\n",
              "      <th>split2_train_score</th>\n",
              "      <th>split3_train_score</th>\n",
              "      <th>split4_train_score</th>\n",
              "      <th>mean_train_score</th>\n",
              "      <th>std_train_score</th>\n",
              "    </tr>\n",
              "  </thead>\n",
              "  <tbody>\n",
              "    <tr>\n",
              "      <th>0</th>\n",
              "      <td>0.018259</td>\n",
              "      <td>0.003923</td>\n",
              "      <td>0.006088</td>\n",
              "      <td>0.000481</td>\n",
              "      <td>0.1</td>\n",
              "      <td>0.0</td>\n",
              "      <td>{'mdl__C': 0.1, 'mdl__l1_ratio': 0.0}</td>\n",
              "      <td>0.90</td>\n",
              "      <td>0.90</td>\n",
              "      <td>0.92</td>\n",
              "      <td>...</td>\n",
              "      <td>0.903673</td>\n",
              "      <td>0.014628</td>\n",
              "      <td>11</td>\n",
              "      <td>0.894472</td>\n",
              "      <td>0.909548</td>\n",
              "      <td>0.909548</td>\n",
              "      <td>0.909548</td>\n",
              "      <td>0.900</td>\n",
              "      <td>0.904623</td>\n",
              "      <td>0.006280</td>\n",
              "    </tr>\n",
              "    <tr>\n",
              "      <th>1</th>\n",
              "      <td>0.015626</td>\n",
              "      <td>0.001485</td>\n",
              "      <td>0.006773</td>\n",
              "      <td>0.001712</td>\n",
              "      <td>0.1</td>\n",
              "      <td>0.25</td>\n",
              "      <td>{'mdl__C': 0.1, 'mdl__l1_ratio': 0.25}</td>\n",
              "      <td>0.90</td>\n",
              "      <td>0.90</td>\n",
              "      <td>0.92</td>\n",
              "      <td>...</td>\n",
              "      <td>0.899673</td>\n",
              "      <td>0.021619</td>\n",
              "      <td>13</td>\n",
              "      <td>0.889447</td>\n",
              "      <td>0.909548</td>\n",
              "      <td>0.904523</td>\n",
              "      <td>0.919598</td>\n",
              "      <td>0.900</td>\n",
              "      <td>0.904623</td>\n",
              "      <td>0.010002</td>\n",
              "    </tr>\n",
              "    <tr>\n",
              "      <th>2</th>\n",
              "      <td>0.020940</td>\n",
              "      <td>0.003029</td>\n",
              "      <td>0.007489</td>\n",
              "      <td>0.000855</td>\n",
              "      <td>0.1</td>\n",
              "      <td>0.5</td>\n",
              "      <td>{'mdl__C': 0.1, 'mdl__l1_ratio': 0.5}</td>\n",
              "      <td>0.92</td>\n",
              "      <td>0.88</td>\n",
              "      <td>0.90</td>\n",
              "      <td>...</td>\n",
              "      <td>0.899837</td>\n",
              "      <td>0.039756</td>\n",
              "      <td>12</td>\n",
              "      <td>0.894472</td>\n",
              "      <td>0.904523</td>\n",
              "      <td>0.884422</td>\n",
              "      <td>0.909548</td>\n",
              "      <td>0.900</td>\n",
              "      <td>0.898593</td>\n",
              "      <td>0.008660</td>\n",
              "    </tr>\n",
              "    <tr>\n",
              "      <th>3</th>\n",
              "      <td>0.017940</td>\n",
              "      <td>0.000945</td>\n",
              "      <td>0.007185</td>\n",
              "      <td>0.000434</td>\n",
              "      <td>0.1</td>\n",
              "      <td>0.75</td>\n",
              "      <td>{'mdl__C': 0.1, 'mdl__l1_ratio': 0.75}</td>\n",
              "      <td>0.92</td>\n",
              "      <td>0.88</td>\n",
              "      <td>0.90</td>\n",
              "      <td>...</td>\n",
              "      <td>0.899673</td>\n",
              "      <td>0.017532</td>\n",
              "      <td>13</td>\n",
              "      <td>0.904523</td>\n",
              "      <td>0.914573</td>\n",
              "      <td>0.909548</td>\n",
              "      <td>0.909548</td>\n",
              "      <td>0.885</td>\n",
              "      <td>0.904638</td>\n",
              "      <td>0.010321</td>\n",
              "    </tr>\n",
              "    <tr>\n",
              "      <th>4</th>\n",
              "      <td>0.016583</td>\n",
              "      <td>0.000813</td>\n",
              "      <td>0.006649</td>\n",
              "      <td>0.000231</td>\n",
              "      <td>0.1</td>\n",
              "      <td>1.0</td>\n",
              "      <td>{'mdl__C': 0.1, 'mdl__l1_ratio': 1.0}</td>\n",
              "      <td>0.88</td>\n",
              "      <td>0.90</td>\n",
              "      <td>0.90</td>\n",
              "      <td>...</td>\n",
              "      <td>0.895673</td>\n",
              "      <td>0.014448</td>\n",
              "      <td>15</td>\n",
              "      <td>0.904523</td>\n",
              "      <td>0.889447</td>\n",
              "      <td>0.899497</td>\n",
              "      <td>0.899497</td>\n",
              "      <td>0.885</td>\n",
              "      <td>0.895593</td>\n",
              "      <td>0.007214</td>\n",
              "    </tr>\n",
              "    <tr>\n",
              "      <th>5</th>\n",
              "      <td>0.017876</td>\n",
              "      <td>0.000523</td>\n",
              "      <td>0.007280</td>\n",
              "      <td>0.000602</td>\n",
              "      <td>316.227766</td>\n",
              "      <td>0.0</td>\n",
              "      <td>{'mdl__C': 316.22776601683796, 'mdl__l1_ratio'...</td>\n",
              "      <td>0.90</td>\n",
              "      <td>0.90</td>\n",
              "      <td>0.92</td>\n",
              "      <td>...</td>\n",
              "      <td>0.915837</td>\n",
              "      <td>0.023016</td>\n",
              "      <td>1</td>\n",
              "      <td>0.929648</td>\n",
              "      <td>0.929648</td>\n",
              "      <td>0.939698</td>\n",
              "      <td>0.939698</td>\n",
              "      <td>0.910</td>\n",
              "      <td>0.929739</td>\n",
              "      <td>0.010845</td>\n",
              "    </tr>\n",
              "    <tr>\n",
              "      <th>6</th>\n",
              "      <td>0.021819</td>\n",
              "      <td>0.005127</td>\n",
              "      <td>0.007409</td>\n",
              "      <td>0.000387</td>\n",
              "      <td>316.227766</td>\n",
              "      <td>0.25</td>\n",
              "      <td>{'mdl__C': 316.22776601683796, 'mdl__l1_ratio'...</td>\n",
              "      <td>0.90</td>\n",
              "      <td>0.90</td>\n",
              "      <td>0.92</td>\n",
              "      <td>...</td>\n",
              "      <td>0.915837</td>\n",
              "      <td>0.023016</td>\n",
              "      <td>1</td>\n",
              "      <td>0.929648</td>\n",
              "      <td>0.929648</td>\n",
              "      <td>0.939698</td>\n",
              "      <td>0.939698</td>\n",
              "      <td>0.915</td>\n",
              "      <td>0.930739</td>\n",
              "      <td>0.009062</td>\n",
              "    </tr>\n",
              "    <tr>\n",
              "      <th>7</th>\n",
              "      <td>0.018827</td>\n",
              "      <td>0.000723</td>\n",
              "      <td>0.007247</td>\n",
              "      <td>0.000209</td>\n",
              "      <td>316.227766</td>\n",
              "      <td>0.5</td>\n",
              "      <td>{'mdl__C': 316.22776601683796, 'mdl__l1_ratio'...</td>\n",
              "      <td>0.90</td>\n",
              "      <td>0.90</td>\n",
              "      <td>0.92</td>\n",
              "      <td>...</td>\n",
              "      <td>0.915837</td>\n",
              "      <td>0.023016</td>\n",
              "      <td>1</td>\n",
              "      <td>0.929648</td>\n",
              "      <td>0.929648</td>\n",
              "      <td>0.939698</td>\n",
              "      <td>0.939698</td>\n",
              "      <td>0.915</td>\n",
              "      <td>0.930739</td>\n",
              "      <td>0.009062</td>\n",
              "    </tr>\n",
              "    <tr>\n",
              "      <th>8</th>\n",
              "      <td>0.020392</td>\n",
              "      <td>0.002785</td>\n",
              "      <td>0.008078</td>\n",
              "      <td>0.000807</td>\n",
              "      <td>316.227766</td>\n",
              "      <td>0.75</td>\n",
              "      <td>{'mdl__C': 316.22776601683796, 'mdl__l1_ratio'...</td>\n",
              "      <td>0.90</td>\n",
              "      <td>0.90</td>\n",
              "      <td>0.92</td>\n",
              "      <td>...</td>\n",
              "      <td>0.915837</td>\n",
              "      <td>0.023016</td>\n",
              "      <td>1</td>\n",
              "      <td>0.929648</td>\n",
              "      <td>0.929648</td>\n",
              "      <td>0.939698</td>\n",
              "      <td>0.939698</td>\n",
              "      <td>0.915</td>\n",
              "      <td>0.930739</td>\n",
              "      <td>0.009062</td>\n",
              "    </tr>\n",
              "    <tr>\n",
              "      <th>9</th>\n",
              "      <td>0.022014</td>\n",
              "      <td>0.004729</td>\n",
              "      <td>0.008503</td>\n",
              "      <td>0.001642</td>\n",
              "      <td>316.227766</td>\n",
              "      <td>1.0</td>\n",
              "      <td>{'mdl__C': 316.22776601683796, 'mdl__l1_ratio'...</td>\n",
              "      <td>0.90</td>\n",
              "      <td>0.90</td>\n",
              "      <td>0.92</td>\n",
              "      <td>...</td>\n",
              "      <td>0.915837</td>\n",
              "      <td>0.023016</td>\n",
              "      <td>1</td>\n",
              "      <td>0.929648</td>\n",
              "      <td>0.929648</td>\n",
              "      <td>0.939698</td>\n",
              "      <td>0.939698</td>\n",
              "      <td>0.915</td>\n",
              "      <td>0.930739</td>\n",
              "      <td>0.009062</td>\n",
              "    </tr>\n",
              "    <tr>\n",
              "      <th>10</th>\n",
              "      <td>0.022804</td>\n",
              "      <td>0.007458</td>\n",
              "      <td>0.008715</td>\n",
              "      <td>0.002362</td>\n",
              "      <td>1000000.0</td>\n",
              "      <td>0.0</td>\n",
              "      <td>{'mdl__C': 1000000.0, 'mdl__l1_ratio': 0.0}</td>\n",
              "      <td>0.90</td>\n",
              "      <td>0.90</td>\n",
              "      <td>0.92</td>\n",
              "      <td>...</td>\n",
              "      <td>0.915837</td>\n",
              "      <td>0.023016</td>\n",
              "      <td>1</td>\n",
              "      <td>0.929648</td>\n",
              "      <td>0.929648</td>\n",
              "      <td>0.939698</td>\n",
              "      <td>0.939698</td>\n",
              "      <td>0.915</td>\n",
              "      <td>0.930739</td>\n",
              "      <td>0.009062</td>\n",
              "    </tr>\n",
              "    <tr>\n",
              "      <th>11</th>\n",
              "      <td>0.019428</td>\n",
              "      <td>0.001706</td>\n",
              "      <td>0.007661</td>\n",
              "      <td>0.000570</td>\n",
              "      <td>1000000.0</td>\n",
              "      <td>0.25</td>\n",
              "      <td>{'mdl__C': 1000000.0, 'mdl__l1_ratio': 0.25}</td>\n",
              "      <td>0.90</td>\n",
              "      <td>0.90</td>\n",
              "      <td>0.92</td>\n",
              "      <td>...</td>\n",
              "      <td>0.915837</td>\n",
              "      <td>0.023016</td>\n",
              "      <td>1</td>\n",
              "      <td>0.929648</td>\n",
              "      <td>0.929648</td>\n",
              "      <td>0.939698</td>\n",
              "      <td>0.939698</td>\n",
              "      <td>0.915</td>\n",
              "      <td>0.930739</td>\n",
              "      <td>0.009062</td>\n",
              "    </tr>\n",
              "    <tr>\n",
              "      <th>12</th>\n",
              "      <td>0.022874</td>\n",
              "      <td>0.002915</td>\n",
              "      <td>0.008600</td>\n",
              "      <td>0.001261</td>\n",
              "      <td>1000000.0</td>\n",
              "      <td>0.5</td>\n",
              "      <td>{'mdl__C': 1000000.0, 'mdl__l1_ratio': 0.5}</td>\n",
              "      <td>0.90</td>\n",
              "      <td>0.90</td>\n",
              "      <td>0.92</td>\n",
              "      <td>...</td>\n",
              "      <td>0.915837</td>\n",
              "      <td>0.023016</td>\n",
              "      <td>1</td>\n",
              "      <td>0.929648</td>\n",
              "      <td>0.929648</td>\n",
              "      <td>0.939698</td>\n",
              "      <td>0.939698</td>\n",
              "      <td>0.915</td>\n",
              "      <td>0.930739</td>\n",
              "      <td>0.009062</td>\n",
              "    </tr>\n",
              "    <tr>\n",
              "      <th>13</th>\n",
              "      <td>0.018226</td>\n",
              "      <td>0.000533</td>\n",
              "      <td>0.007325</td>\n",
              "      <td>0.000489</td>\n",
              "      <td>1000000.0</td>\n",
              "      <td>0.75</td>\n",
              "      <td>{'mdl__C': 1000000.0, 'mdl__l1_ratio': 0.75}</td>\n",
              "      <td>0.90</td>\n",
              "      <td>0.90</td>\n",
              "      <td>0.92</td>\n",
              "      <td>...</td>\n",
              "      <td>0.915837</td>\n",
              "      <td>0.023016</td>\n",
              "      <td>1</td>\n",
              "      <td>0.929648</td>\n",
              "      <td>0.929648</td>\n",
              "      <td>0.939698</td>\n",
              "      <td>0.939698</td>\n",
              "      <td>0.915</td>\n",
              "      <td>0.930739</td>\n",
              "      <td>0.009062</td>\n",
              "    </tr>\n",
              "    <tr>\n",
              "      <th>14</th>\n",
              "      <td>0.018992</td>\n",
              "      <td>0.000581</td>\n",
              "      <td>0.007603</td>\n",
              "      <td>0.000675</td>\n",
              "      <td>1000000.0</td>\n",
              "      <td>1.0</td>\n",
              "      <td>{'mdl__C': 1000000.0, 'mdl__l1_ratio': 1.0}</td>\n",
              "      <td>0.90</td>\n",
              "      <td>0.90</td>\n",
              "      <td>0.92</td>\n",
              "      <td>...</td>\n",
              "      <td>0.915837</td>\n",
              "      <td>0.023016</td>\n",
              "      <td>1</td>\n",
              "      <td>0.929648</td>\n",
              "      <td>0.929648</td>\n",
              "      <td>0.939698</td>\n",
              "      <td>0.939698</td>\n",
              "      <td>0.915</td>\n",
              "      <td>0.930739</td>\n",
              "      <td>0.009062</td>\n",
              "    </tr>\n",
              "  </tbody>\n",
              "</table>\n",
              "<p>15 rows × 22 columns</p>\n",
              "</div>\n",
              "      <button class=\"colab-df-convert\" onclick=\"convertToInteractive('df-a89fc686-7c90-4164-996d-56f190263e7f')\"\n",
              "              title=\"Convert this dataframe to an interactive table.\"\n",
              "              style=\"display:none;\">\n",
              "        \n",
              "  <svg xmlns=\"http://www.w3.org/2000/svg\" height=\"24px\"viewBox=\"0 0 24 24\"\n",
              "       width=\"24px\">\n",
              "    <path d=\"M0 0h24v24H0V0z\" fill=\"none\"/>\n",
              "    <path d=\"M18.56 5.44l.94 2.06.94-2.06 2.06-.94-2.06-.94-.94-2.06-.94 2.06-2.06.94zm-11 1L8.5 8.5l.94-2.06 2.06-.94-2.06-.94L8.5 2.5l-.94 2.06-2.06.94zm10 10l.94 2.06.94-2.06 2.06-.94-2.06-.94-.94-2.06-.94 2.06-2.06.94z\"/><path d=\"M17.41 7.96l-1.37-1.37c-.4-.4-.92-.59-1.43-.59-.52 0-1.04.2-1.43.59L10.3 9.45l-7.72 7.72c-.78.78-.78 2.05 0 2.83L4 21.41c.39.39.9.59 1.41.59.51 0 1.02-.2 1.41-.59l7.78-7.78 2.81-2.81c.8-.78.8-2.07 0-2.86zM5.41 20L4 18.59l7.72-7.72 1.47 1.35L5.41 20z\"/>\n",
              "  </svg>\n",
              "      </button>\n",
              "      \n",
              "  <style>\n",
              "    .colab-df-container {\n",
              "      display:flex;\n",
              "      flex-wrap:wrap;\n",
              "      gap: 12px;\n",
              "    }\n",
              "\n",
              "    .colab-df-convert {\n",
              "      background-color: #E8F0FE;\n",
              "      border: none;\n",
              "      border-radius: 50%;\n",
              "      cursor: pointer;\n",
              "      display: none;\n",
              "      fill: #1967D2;\n",
              "      height: 32px;\n",
              "      padding: 0 0 0 0;\n",
              "      width: 32px;\n",
              "    }\n",
              "\n",
              "    .colab-df-convert:hover {\n",
              "      background-color: #E2EBFA;\n",
              "      box-shadow: 0px 1px 2px rgba(60, 64, 67, 0.3), 0px 1px 3px 1px rgba(60, 64, 67, 0.15);\n",
              "      fill: #174EA6;\n",
              "    }\n",
              "\n",
              "    [theme=dark] .colab-df-convert {\n",
              "      background-color: #3B4455;\n",
              "      fill: #D2E3FC;\n",
              "    }\n",
              "\n",
              "    [theme=dark] .colab-df-convert:hover {\n",
              "      background-color: #434B5C;\n",
              "      box-shadow: 0px 1px 3px 1px rgba(0, 0, 0, 0.15);\n",
              "      filter: drop-shadow(0px 1px 2px rgba(0, 0, 0, 0.3));\n",
              "      fill: #FFFFFF;\n",
              "    }\n",
              "  </style>\n",
              "\n",
              "      <script>\n",
              "        const buttonEl =\n",
              "          document.querySelector('#df-a89fc686-7c90-4164-996d-56f190263e7f button.colab-df-convert');\n",
              "        buttonEl.style.display =\n",
              "          google.colab.kernel.accessAllowed ? 'block' : 'none';\n",
              "\n",
              "        async function convertToInteractive(key) {\n",
              "          const element = document.querySelector('#df-a89fc686-7c90-4164-996d-56f190263e7f');\n",
              "          const dataTable =\n",
              "            await google.colab.kernel.invokeFunction('convertToInteractive',\n",
              "                                                     [key], {});\n",
              "          if (!dataTable) return;\n",
              "\n",
              "          const docLinkHtml = 'Like what you see? Visit the ' +\n",
              "            '<a target=\"_blank\" href=https://colab.research.google.com/notebooks/data_table.ipynb>data table notebook</a>'\n",
              "            + ' to learn more about interactive tables.';\n",
              "          element.innerHTML = '';\n",
              "          dataTable['output_type'] = 'display_data';\n",
              "          await google.colab.output.renderOutput(dataTable, element);\n",
              "          const docLink = document.createElement('div');\n",
              "          docLink.innerHTML = docLinkHtml;\n",
              "          element.appendChild(docLink);\n",
              "        }\n",
              "      </script>\n",
              "    </div>\n",
              "  </div>\n",
              "  "
            ]
          },
          "metadata": {},
          "execution_count": 47
        }
      ],
      "source": [
        "pd.DataFrame(grid_search.cv_results_)"
      ]
    },
    {
      "cell_type": "markdown",
      "id": "289be208-bf90-4699-951e-b09a0289aa9d",
      "metadata": {
        "id": "289be208-bf90-4699-951e-b09a0289aa9d"
      },
      "source": [
        "## Final fit\n",
        "\n",
        "The final fit here is already present in the generated model due to the way we set our parameters in the grid search. If we want to look at the performance, we can do so. Here is a non-helpful description of the best model:"
      ]
    },
    {
      "cell_type": "code",
      "execution_count": 48,
      "id": "9a0c404f-514c-4f2c-98c9-506ca8ca1c46",
      "metadata": {
        "colab": {
          "base_uri": "https://localhost:8080/"
        },
        "id": "9a0c404f-514c-4f2c-98c9-506ca8ca1c46",
        "outputId": "5c7d0abc-dc26-4e53-9f99-c5fe4721bed9"
      },
      "outputs": [
        {
          "output_type": "execute_result",
          "data": {
            "text/plain": [
              "Pipeline(steps=[('preproc',\n",
              "                 ColumnTransformer(remainder='passthrough',\n",
              "                                   transformers=[('cat_pipe',\n",
              "                                                  Pipeline(steps=[('cat_impute',\n",
              "                                                                   SimpleImputer(strategy='most_frequent')),\n",
              "                                                                  ('onehot_cat',\n",
              "                                                                   OneHotEncoder(drop='if_binary'))]),\n",
              "                                                  <sklearn.compose._column_transformer.make_column_selector object at 0x7f74533c2e90>),\n",
              "                                                 ('num_pipe',\n",
              "                                                  Pipeline(steps=[('impute_num',\n",
              "                                                                   SimpleImputer(strategy='median')),\n",
              "                                                                  ('scale_num',\n",
              "                                                                   StandardScaler())]),\n",
              "                                                  <sklearn.compose._column_transformer.make_column_selector object at 0x7f74533c21d0>)])),\n",
              "                ('mdl',\n",
              "                 LogisticRegression(C=316.22776601683796, l1_ratio=0.0,\n",
              "                                    penalty='elasticnet', solver='saga',\n",
              "                                    tol=0.01))])"
            ]
          },
          "metadata": {},
          "execution_count": 48
        }
      ],
      "source": [
        "grid_search.best_estimator_"
      ]
    },
    {
      "cell_type": "markdown",
      "id": "3feb06cf-bf30-4383-9449-4153c0fa996e",
      "metadata": {
        "id": "3feb06cf-bf30-4383-9449-4153c0fa996e"
      },
      "source": [
        "## Variable importance\n",
        "\n",
        "Now we assess the importance in the selected model to reveal any potential insights."
      ]
    },
    {
      "cell_type": "code",
      "execution_count": 49,
      "id": "45f8b024-9842-41e3-bbbb-2642cd4af47a",
      "metadata": {
        "colab": {
          "base_uri": "https://localhost:8080/"
        },
        "id": "45f8b024-9842-41e3-bbbb-2642cd4af47a",
        "outputId": "bbaf5ce2-bc40-4175-a250-f6dd5337789b"
      },
      "outputs": [
        {
          "output_type": "execute_result",
          "data": {
            "text/plain": [
              "array(['female', 'male'], dtype=object)"
            ]
          },
          "metadata": {},
          "execution_count": 49
        }
      ],
      "source": [
        "grid_search.classes_"
      ]
    },
    {
      "cell_type": "code",
      "execution_count": null,
      "id": "e1832990-1f9d-46ee-9cf1-3c1288f7c47a",
      "metadata": {
        "colab": {
          "base_uri": "https://localhost:8080/"
        },
        "id": "e1832990-1f9d-46ee-9cf1-3c1288f7c47a",
        "outputId": "56a39cb0-2394-4084-967f-9a142e43238d"
      },
      "outputs": [
        {
          "output_type": "execute_result",
          "data": {
            "text/plain": [
              "array([ 3.5774893 , -2.39475684, -1.50462639, -0.39569798,  0.35849419,\n",
              "       -0.28469014,  2.62073253,  3.11808527, -0.13192593,  4.02165515,\n",
              "        0.16445986])"
            ]
          },
          "metadata": {},
          "execution_count": 19
        }
      ],
      "source": [
        "vip = grid_search.best_estimator_['mdl'].coef_[0]\n",
        "vip"
      ]
    },
    {
      "cell_type": "code",
      "execution_count": 50,
      "id": "7ebdc166-bdb7-4863-b46f-165f1aec7a7d",
      "metadata": {
        "colab": {
          "base_uri": "https://localhost:8080/",
          "height": 335
        },
        "id": "7ebdc166-bdb7-4863-b46f-165f1aec7a7d",
        "outputId": "e4f20460-7b6c-448b-eabd-f2e8f5b64b7e"
      },
      "outputs": [
        {
          "output_type": "stream",
          "name": "stderr",
          "text": [
            "/usr/local/lib/python3.7/dist-packages/sklearn/utils/deprecation.py:87: FutureWarning: Function get_feature_names is deprecated; get_feature_names is deprecated in 1.0 and will be removed in 1.2. Please use get_feature_names_out instead.\n",
            "  warnings.warn(msg, category=FutureWarning)\n"
          ]
        },
        {
          "output_type": "display_data",
          "data": {
            "text/plain": [
              "<Figure size 432x288 with 1 Axes>"
            ],
            "image/png": "[encoded data removed]"
          },
          "metadata": {
            "needs_background": "light"
          }
        }
      ],
      "source": [
        "#get names in correct preproc order\n",
        "cat_names = grid_search.best_estimator_.named_steps['preproc'].transformers_[0][1].named_steps['onehot_cat'].get_feature_names()\n",
        "num_names = grid_search.best_estimator_.named_steps['preproc'].transformers_[1][2]\n",
        "\n",
        "#create df with vip info\n",
        "coef_info = pd.DataFrame({'feat_names':np.hstack([cat_names, num_names]), 'vip': vip})\n",
        "\n",
        "#get sign and magnitude information\n",
        "coef_info = coef_info.assign(coef_mag = abs(coef_info['vip']),\n",
        "                             coef_sign = np.sign(coef_info['vip']))\n",
        "\n",
        "#sort and plot\n",
        "coef_info = coef_info.set_index('feat_names').sort_values(by='coef_mag', ascending=False)\n",
        "sns.barplot(y=coef_info.index, x='coef_mag', hue='coef_sign', data=coef_info, orient='h', dodge=False);"
      ]
    },
    {
      "cell_type": "markdown",
      "id": "aa95eb91-77ec-4d33-a039-b2f9f95097fb",
      "metadata": {
        "id": "aa95eb91-77ec-4d33-a039-b2f9f95097fb"
      },
      "source": [
        "## Performance metrics on test data\n",
        "\n",
        "\n",
        "Here, we can see the performance of the model, which is pretty nice! We can also look into different scores specifically for more insight into the performance."
      ]
    },
    {
      "cell_type": "code",
      "execution_count": 51,
      "id": "19f6f347-e01c-496a-ac3a-7e603361997f",
      "metadata": {
        "tags": [],
        "colab": {
          "base_uri": "https://localhost:8080/"
        },
        "id": "19f6f347-e01c-496a-ac3a-7e603361997f",
        "outputId": "d878d997-52e7-4cf7-9f0a-6c361983e80c"
      },
      "outputs": [
        {
          "output_type": "stream",
          "name": "stdout",
          "text": [
            "              precision    recall  f1-score   support\n",
            "\n",
            "      female       0.89      0.93      0.91        42\n",
            "        male       0.93      0.88      0.90        42\n",
            "\n",
            "    accuracy                           0.90        84\n",
            "   macro avg       0.91      0.90      0.90        84\n",
            "weighted avg       0.91      0.90      0.90        84\n",
            "\n"
          ]
        }
      ],
      "source": [
        "print(classification_report(y_test, grid_search.best_estimator_.predict(X_test)))"
      ]
    },
    {
      "cell_type": "code",
      "execution_count": 52,
      "id": "594638a2-fe7e-4295-ac53-edca4db92565",
      "metadata": {
        "colab": {
          "base_uri": "https://localhost:8080/",
          "height": 279
        },
        "id": "594638a2-fe7e-4295-ac53-edca4db92565",
        "outputId": "bcc8ab0e-d9bd-4927-ebd2-5264011ec468"
      },
      "outputs": [
        {
          "output_type": "display_data",
          "data": {
            "text/plain": [
              "<Figure size 432x288 with 2 Axes>"
            ],
            "image/png": "[encoded data removed]"
          },
          "metadata": {
            "needs_background": "light"
          }
        }
      ],
      "source": [
        "cm = confusion_matrix(y_test, grid_search.best_estimator_.predict(X_test))\n",
        "disp = ConfusionMatrixDisplay(confusion_matrix=cm,\n",
        "                               display_labels=grid_search.classes_)\n",
        "disp.plot()\n",
        "\n",
        "plt.show()"
      ]
    },
    {
      "cell_type": "markdown",
      "id": "8aa24577-b182-4b54-a539-f498f93db4dc",
      "metadata": {
        "id": "8aa24577-b182-4b54-a539-f498f93db4dc"
      },
      "source": [
        "## Try it yourself!\n",
        "\n",
        "Now that we've seen the power of pipelines in sklearn, let's now try implementing our own pipelines."
      ]
    },
    {
      "cell_type": "code",
      "execution_count": 198,
      "id": "05e5894f-4f8c-4f42-9b3d-63621cf18f4c",
      "metadata": {
        "id": "05e5894f-4f8c-4f42-9b3d-63621cf18f4c"
      },
      "outputs": [],
      "source": [
        "# Try implementing a pipeline where we use median imputation for numeric columns instead of mean imputation.\n",
        "\n",
        "#individual pipelines for differing datatypes\n",
        "cat_pipeline = Pipeline(steps=[('cat_impute', SimpleImputer(missing_values=np.nan, strategy='most_frequent')),\n",
        "                               ('onehot_cat', OneHotEncoder(drop='if_binary'))])\n",
        "num_pipeline = Pipeline(steps=[('impute_num', SimpleImputer(missing_values=np.nan, strategy='median')),\n",
        "                               ('scale_num', StandardScaler())])\n",
        "\n",
        "#establish preprocessing pipeline by columns\n",
        "preproc = ColumnTransformer([('cat_pipe', cat_pipeline, make_column_selector(dtype_include=object)),\n",
        "                             ('num_pipe', num_pipeline, make_column_selector(dtype_include=np.number))],\n",
        "                             remainder='passthrough')"
      ]
    },
    {
      "cell_type": "markdown",
      "id": "632436b2-0167-4874-b129-28d83e45b0af",
      "metadata": {
        "id": "632436b2-0167-4874-b129-28d83e45b0af"
      },
      "source": [
        "With this new pipeline, now train a Random Forest model. Refer to the documentation for the parameters for the random forest classifier here: https://scikit-learn.org/stable/modules/generated/sklearn.ensemble.RandomForestClassifier.html\n",
        "\n",
        "Is the performance better? "
      ]
    },
    {
      "cell_type": "code",
      "execution_count": 200,
      "id": "c9101ce8-4fbb-4058-b147-67919ff46f6d",
      "metadata": {
        "id": "c9101ce8-4fbb-4058-b147-67919ff46f6d"
      },
      "outputs": [],
      "source": [
        "#generate the whole modeling pipeline with preprocessing\n",
        "pipe = Pipeline(steps=[('preproc', preproc),\n",
        "                       ('mdl', RandomForestClassifier())])\n",
        "\n",
        "#visualization for steps\n"
      ]
    },
    {
      "cell_type": "markdown",
      "id": "728d169a-0505-40cd-b773-0205cac0f81f",
      "metadata": {
        "id": "728d169a-0505-40cd-b773-0205cac0f81f"
      },
      "source": [
        "Now perform cross validation and modify the n_estimators parameter to values of [100, 200,500] and max_depth parameter to values of [10,15,50] for the random forest classifier for hyperparameter tuning."
      ]
    },
    {
      "cell_type": "code",
      "execution_count": 201,
      "id": "370c38c4-a091-43f4-a095-509c8b2b4f9a",
      "metadata": {
        "id": "370c38c4-a091-43f4-a095-509c8b2b4f9a"
      },
      "outputs": [],
      "source": [
        "tuning_grid = {'mdl__n_estimators' : [100, 200 ,500],\n",
        "               'mdl__max_depth': [10, 15, 20] }\n",
        "grid_search = GridSearchCV(pipe, param_grid = tuning_grid, cv = 5, return_train_score=True)"
      ]
    },
    {
      "cell_type": "code",
      "execution_count": 202,
      "id": "be1cecb5-0aa8-42a7-96d3-1be721acc4d5",
      "metadata": {
        "colab": {
          "base_uri": "https://localhost:8080/"
        },
        "id": "be1cecb5-0aa8-42a7-96d3-1be721acc4d5",
        "outputId": "83a838e1-dc91-4084-dbba-efb9cdd6e812"
      },
      "outputs": [
        {
          "output_type": "execute_result",
          "data": {
            "text/plain": [
              "{'mdl__max_depth': [10, 15, 20], 'mdl__n_estimators': [100, 200, 500]}"
            ]
          },
          "metadata": {},
          "execution_count": 202
        }
      ],
      "source": [
        "tuning_grid"
      ]
    },
    {
      "cell_type": "code",
      "execution_count": 203,
      "id": "bac7bee7-2136-4bcd-b57d-cc4e1f1e39bf",
      "metadata": {
        "colab": {
          "base_uri": "https://localhost:8080/"
        },
        "id": "bac7bee7-2136-4bcd-b57d-cc4e1f1e39bf",
        "outputId": "96eab8ea-925b-46c0-8935-0f1f04ce5fb1"
      },
      "outputs": [
        {
          "output_type": "execute_result",
          "data": {
            "text/plain": [
              "GridSearchCV(cv=5,\n",
              "             estimator=Pipeline(steps=[('preproc',\n",
              "                                        ColumnTransformer(remainder='passthrough',\n",
              "                                                          transformers=[('cat_pipe',\n",
              "                                                                         Pipeline(steps=[('cat_impute',\n",
              "                                                                                          SimpleImputer(strategy='most_frequent')),\n",
              "                                                                                         ('onehot_cat',\n",
              "                                                                                          OneHotEncoder(drop='if_binary'))]),\n",
              "                                                                         <sklearn.compose._column_transformer.make_column_selector object at 0x7f745024c990>),\n",
              "                                                                        ('num_pipe',\n",
              "                                                                         Pipeline(steps=[('impute_num',\n",
              "                                                                                          SimpleImputer(strategy='median')),\n",
              "                                                                                         ('scale_num',\n",
              "                                                                                          StandardScaler())]),\n",
              "                                                                         <sklearn.compose._column_transformer.make_column_selector object at 0x7f745024c450>)])),\n",
              "                                       ('mdl', RandomForestClassifier())]),\n",
              "             param_grid={'mdl__max_depth': [10, 15, 20],\n",
              "                         'mdl__n_estimators': [100, 200, 500]},\n",
              "             return_train_score=True)"
            ]
          },
          "metadata": {},
          "execution_count": 203
        }
      ],
      "source": [
        "grid_search.fit(X_train, y_train)"
      ]
    },
    {
      "cell_type": "code",
      "execution_count": null,
      "id": "fe4a4c7f-3806-4e8d-a642-34ddd0488755",
      "metadata": {
        "id": "fe4a4c7f-3806-4e8d-a642-34ddd0488755"
      },
      "outputs": [],
      "source": [
        "print(grid_search.best_score_)\n",
        "grid_search.best_params_"
      ]
    },
    {
      "cell_type": "code",
      "execution_count": 175,
      "id": "44b01658-ec11-45fa-aaf7-9df5dc3d398e",
      "metadata": {
        "colab": {
          "base_uri": "https://localhost:8080/",
          "height": 894
        },
        "id": "44b01658-ec11-45fa-aaf7-9df5dc3d398e",
        "outputId": "2dde4456-bc8d-4260-b84f-85ecabeae03f"
      },
      "outputs": [
        {
          "output_type": "execute_result",
          "data": {
            "text/plain": [
              "   mean_fit_time  std_fit_time  mean_score_time  std_score_time  \\\n",
              "0       0.166047      0.003038         0.018668        0.000878   \n",
              "1       0.310724      0.010338         0.030575        0.001806   \n",
              "2       0.723093      0.008370         0.066360        0.005454   \n",
              "3       0.157419      0.004669         0.018158        0.001192   \n",
              "4       0.302831      0.005032         0.031971        0.004935   \n",
              "5       0.730382      0.008541         0.065029        0.005748   \n",
              "6       0.156566      0.004269         0.017826        0.000616   \n",
              "7       0.302701      0.007044         0.030878        0.004871   \n",
              "8       0.736822      0.005486         0.063423        0.003085   \n",
              "\n",
              "  param_mdl__max_depth param_mdl__n_estimators  \\\n",
              "0                   10                     100   \n",
              "1                   10                     200   \n",
              "2                   10                     500   \n",
              "3                   15                     100   \n",
              "4                   15                     200   \n",
              "5                   15                     500   \n",
              "6                   20                     100   \n",
              "7                   20                     200   \n",
              "8                   20                     500   \n",
              "\n",
              "                                             params  split0_test_score  \\\n",
              "0  {'mdl__max_depth': 10, 'mdl__n_estimators': 100}               0.90   \n",
              "1  {'mdl__max_depth': 10, 'mdl__n_estimators': 200}               0.88   \n",
              "2  {'mdl__max_depth': 10, 'mdl__n_estimators': 500}               0.88   \n",
              "3  {'mdl__max_depth': 15, 'mdl__n_estimators': 100}               0.90   \n",
              "4  {'mdl__max_depth': 15, 'mdl__n_estimators': 200}               0.90   \n",
              "5  {'mdl__max_depth': 15, 'mdl__n_estimators': 500}               0.88   \n",
              "6  {'mdl__max_depth': 20, 'mdl__n_estimators': 100}               0.88   \n",
              "7  {'mdl__max_depth': 20, 'mdl__n_estimators': 200}               0.88   \n",
              "8  {'mdl__max_depth': 20, 'mdl__n_estimators': 500}               0.88   \n",
              "\n",
              "   split1_test_score  split2_test_score  ...  mean_test_score  std_test_score  \\\n",
              "0               0.92               0.94  ...         0.915837        0.034201   \n",
              "1               0.90               0.92  ...         0.903837        0.034144   \n",
              "2               0.92               0.94  ...         0.915918        0.042586   \n",
              "3               0.92               0.96  ...         0.915755        0.034242   \n",
              "4               0.92               0.92  ...         0.919918        0.033320   \n",
              "5               0.92               0.94  ...         0.915918        0.042586   \n",
              "6               0.92               0.98  ...         0.919918        0.055048   \n",
              "7               0.92               0.96  ...         0.915837        0.040617   \n",
              "8               0.92               0.94  ...         0.915918        0.042586   \n",
              "\n",
              "   rank_test_score  split0_train_score  split1_train_score  \\\n",
              "0                6                 1.0                 1.0   \n",
              "1                9                 1.0                 1.0   \n",
              "2                3                 1.0                 1.0   \n",
              "3                8                 1.0                 1.0   \n",
              "4                1                 1.0                 1.0   \n",
              "5                3                 1.0                 1.0   \n",
              "6                1                 1.0                 1.0   \n",
              "7                6                 1.0                 1.0   \n",
              "8                3                 1.0                 1.0   \n",
              "\n",
              "   split2_train_score  split3_train_score  split4_train_score  \\\n",
              "0                 1.0                 1.0                 1.0   \n",
              "1                 1.0                 1.0                 1.0   \n",
              "2                 1.0                 1.0                 1.0   \n",
              "3                 1.0                 1.0                 1.0   \n",
              "4                 1.0                 1.0                 1.0   \n",
              "5                 1.0                 1.0                 1.0   \n",
              "6                 1.0                 1.0                 1.0   \n",
              "7                 1.0                 1.0                 1.0   \n",
              "8                 1.0                 1.0                 1.0   \n",
              "\n",
              "   mean_train_score  std_train_score  \n",
              "0               1.0              0.0  \n",
              "1               1.0              0.0  \n",
              "2               1.0              0.0  \n",
              "3               1.0              0.0  \n",
              "4               1.0              0.0  \n",
              "5               1.0              0.0  \n",
              "6               1.0              0.0  \n",
              "7               1.0              0.0  \n",
              "8               1.0              0.0  \n",
              "\n",
              "[9 rows x 22 columns]"
            ],
            "text/html": [
              "\n",
              "  <div id=\"df-7334de80-e568-4f7d-9c4c-c95dcc47ce11\">\n",
              "    <div class=\"colab-df-container\">\n",
              "      <div>\n",
              "<style scoped>\n",
              "    .dataframe tbody tr th:only-of-type {\n",
              "        vertical-align: middle;\n",
              "    }\n",
              "\n",
              "    .dataframe tbody tr th {\n",
              "        vertical-align: top;\n",
              "    }\n",
              "\n",
              "    .dataframe thead th {\n",
              "        text-align: right;\n",
              "    }\n",
              "</style>\n",
              "<table border=\"1\" class=\"dataframe\">\n",
              "  <thead>\n",
              "    <tr style=\"text-align: right;\">\n",
              "      <th></th>\n",
              "      <th>mean_fit_time</th>\n",
              "      <th>std_fit_time</th>\n",
              "      <th>mean_score_time</th>\n",
              "      <th>std_score_time</th>\n",
              "      <th>param_mdl__max_depth</th>\n",
              "      <th>param_mdl__n_estimators</th>\n",
              "      <th>params</th>\n",
              "      <th>split0_test_score</th>\n",
              "      <th>split1_test_score</th>\n",
              "      <th>split2_test_score</th>\n",
              "      <th>...</th>\n",
              "      <th>mean_test_score</th>\n",
              "      <th>std_test_score</th>\n",
              "      <th>rank_test_score</th>\n",
              "      <th>split0_train_score</th>\n",
              "      <th>split1_train_score</th>\n",
              "      <th>split2_train_score</th>\n",
              "      <th>split3_train_score</th>\n",
              "      <th>split4_train_score</th>\n",
              "      <th>mean_train_score</th>\n",
              "      <th>std_train_score</th>\n",
              "    </tr>\n",
              "  </thead>\n",
              "  <tbody>\n",
              "    <tr>\n",
              "      <th>0</th>\n",
              "      <td>0.166047</td>\n",
              "      <td>0.003038</td>\n",
              "      <td>0.018668</td>\n",
              "      <td>0.000878</td>\n",
              "      <td>10</td>\n",
              "      <td>100</td>\n",
              "      <td>{'mdl__max_depth': 10, 'mdl__n_estimators': 100}</td>\n",
              "      <td>0.90</td>\n",
              "      <td>0.92</td>\n",
              "      <td>0.94</td>\n",
              "      <td>...</td>\n",
              "      <td>0.915837</td>\n",
              "      <td>0.034201</td>\n",
              "      <td>6</td>\n",
              "      <td>1.0</td>\n",
              "      <td>1.0</td>\n",
              "      <td>1.0</td>\n",
              "      <td>1.0</td>\n",
              "      <td>1.0</td>\n",
              "      <td>1.0</td>\n",
              "      <td>0.0</td>\n",
              "    </tr>\n",
              "    <tr>\n",
              "      <th>1</th>\n",
              "      <td>0.310724</td>\n",
              "      <td>0.010338</td>\n",
              "      <td>0.030575</td>\n",
              "      <td>0.001806</td>\n",
              "      <td>10</td>\n",
              "      <td>200</td>\n",
              "      <td>{'mdl__max_depth': 10, 'mdl__n_estimators': 200}</td>\n",
              "      <td>0.88</td>\n",
              "      <td>0.90</td>\n",
              "      <td>0.92</td>\n",
              "      <td>...</td>\n",
              "      <td>0.903837</td>\n",
              "      <td>0.034144</td>\n",
              "      <td>9</td>\n",
              "      <td>1.0</td>\n",
              "      <td>1.0</td>\n",
              "      <td>1.0</td>\n",
              "      <td>1.0</td>\n",
              "      <td>1.0</td>\n",
              "      <td>1.0</td>\n",
              "      <td>0.0</td>\n",
              "    </tr>\n",
              "    <tr>\n",
              "      <th>2</th>\n",
              "      <td>0.723093</td>\n",
              "      <td>0.008370</td>\n",
              "      <td>0.066360</td>\n",
              "      <td>0.005454</td>\n",
              "      <td>10</td>\n",
              "      <td>500</td>\n",
              "      <td>{'mdl__max_depth': 10, 'mdl__n_estimators': 500}</td>\n",
              "      <td>0.88</td>\n",
              "      <td>0.92</td>\n",
              "      <td>0.94</td>\n",
              "      <td>...</td>\n",
              "      <td>0.915918</td>\n",
              "      <td>0.042586</td>\n",
              "      <td>3</td>\n",
              "      <td>1.0</td>\n",
              "      <td>1.0</td>\n",
              "      <td>1.0</td>\n",
              "      <td>1.0</td>\n",
              "      <td>1.0</td>\n",
              "      <td>1.0</td>\n",
              "      <td>0.0</td>\n",
              "    </tr>\n",
              "    <tr>\n",
              "      <th>3</th>\n",
              "      <td>0.157419</td>\n",
              "      <td>0.004669</td>\n",
              "      <td>0.018158</td>\n",
              "      <td>0.001192</td>\n",
              "      <td>15</td>\n",
              "      <td>100</td>\n",
              "      <td>{'mdl__max_depth': 15, 'mdl__n_estimators': 100}</td>\n",
              "      <td>0.90</td>\n",
              "      <td>0.92</td>\n",
              "      <td>0.96</td>\n",
              "      <td>...</td>\n",
              "      <td>0.915755</td>\n",
              "      <td>0.034242</td>\n",
              "      <td>8</td>\n",
              "      <td>1.0</td>\n",
              "      <td>1.0</td>\n",
              "      <td>1.0</td>\n",
              "      <td>1.0</td>\n",
              "      <td>1.0</td>\n",
              "      <td>1.0</td>\n",
              "      <td>0.0</td>\n",
              "    </tr>\n",
              "    <tr>\n",
              "      <th>4</th>\n",
              "      <td>0.302831</td>\n",
              "      <td>0.005032</td>\n",
              "      <td>0.031971</td>\n",
              "      <td>0.004935</td>\n",
              "      <td>15</td>\n",
              "      <td>200</td>\n",
              "      <td>{'mdl__max_depth': 15, 'mdl__n_estimators': 200}</td>\n",
              "      <td>0.90</td>\n",
              "      <td>0.92</td>\n",
              "      <td>0.92</td>\n",
              "      <td>...</td>\n",
              "      <td>0.919918</td>\n",
              "      <td>0.033320</td>\n",
              "      <td>1</td>\n",
              "      <td>1.0</td>\n",
              "      <td>1.0</td>\n",
              "      <td>1.0</td>\n",
              "      <td>1.0</td>\n",
              "      <td>1.0</td>\n",
              "      <td>1.0</td>\n",
              "      <td>0.0</td>\n",
              "    </tr>\n",
              "    <tr>\n",
              "      <th>5</th>\n",
              "      <td>0.730382</td>\n",
              "      <td>0.008541</td>\n",
              "      <td>0.065029</td>\n",
              "      <td>0.005748</td>\n",
              "      <td>15</td>\n",
              "      <td>500</td>\n",
              "      <td>{'mdl__max_depth': 15, 'mdl__n_estimators': 500}</td>\n",
              "      <td>0.88</td>\n",
              "      <td>0.92</td>\n",
              "      <td>0.94</td>\n",
              "      <td>...</td>\n",
              "      <td>0.915918</td>\n",
              "      <td>0.042586</td>\n",
              "      <td>3</td>\n",
              "      <td>1.0</td>\n",
              "      <td>1.0</td>\n",
              "      <td>1.0</td>\n",
              "      <td>1.0</td>\n",
              "      <td>1.0</td>\n",
              "      <td>1.0</td>\n",
              "      <td>0.0</td>\n",
              "    </tr>\n",
              "    <tr>\n",
              "      <th>6</th>\n",
              "      <td>0.156566</td>\n",
              "      <td>0.004269</td>\n",
              "      <td>0.017826</td>\n",
              "      <td>0.000616</td>\n",
              "      <td>20</td>\n",
              "      <td>100</td>\n",
              "      <td>{'mdl__max_depth': 20, 'mdl__n_estimators': 100}</td>\n",
              "      <td>0.88</td>\n",
              "      <td>0.92</td>\n",
              "      <td>0.98</td>\n",
              "      <td>...</td>\n",
              "      <td>0.919918</td>\n",
              "      <td>0.055048</td>\n",
              "      <td>1</td>\n",
              "      <td>1.0</td>\n",
              "      <td>1.0</td>\n",
              "      <td>1.0</td>\n",
              "      <td>1.0</td>\n",
              "      <td>1.0</td>\n",
              "      <td>1.0</td>\n",
              "      <td>0.0</td>\n",
              "    </tr>\n",
              "    <tr>\n",
              "      <th>7</th>\n",
              "      <td>0.302701</td>\n",
              "      <td>0.007044</td>\n",
              "      <td>0.030878</td>\n",
              "      <td>0.004871</td>\n",
              "      <td>20</td>\n",
              "      <td>200</td>\n",
              "      <td>{'mdl__max_depth': 20, 'mdl__n_estimators': 200}</td>\n",
              "      <td>0.88</td>\n",
              "      <td>0.92</td>\n",
              "      <td>0.96</td>\n",
              "      <td>...</td>\n",
              "      <td>0.915837</td>\n",
              "      <td>0.040617</td>\n",
              "      <td>6</td>\n",
              "      <td>1.0</td>\n",
              "      <td>1.0</td>\n",
              "      <td>1.0</td>\n",
              "      <td>1.0</td>\n",
              "      <td>1.0</td>\n",
              "      <td>1.0</td>\n",
              "      <td>0.0</td>\n",
              "    </tr>\n",
              "    <tr>\n",
              "      <th>8</th>\n",
              "      <td>0.736822</td>\n",
              "      <td>0.005486</td>\n",
              "      <td>0.063423</td>\n",
              "      <td>0.003085</td>\n",
              "      <td>20</td>\n",
              "      <td>500</td>\n",
              "      <td>{'mdl__max_depth': 20, 'mdl__n_estimators': 500}</td>\n",
              "      <td>0.88</td>\n",
              "      <td>0.92</td>\n",
              "      <td>0.94</td>\n",
              "      <td>...</td>\n",
              "      <td>0.915918</td>\n",
              "      <td>0.042586</td>\n",
              "      <td>3</td>\n",
              "      <td>1.0</td>\n",
              "      <td>1.0</td>\n",
              "      <td>1.0</td>\n",
              "      <td>1.0</td>\n",
              "      <td>1.0</td>\n",
              "      <td>1.0</td>\n",
              "      <td>0.0</td>\n",
              "    </tr>\n",
              "  </tbody>\n",
              "</table>\n",
              "<p>9 rows × 22 columns</p>\n",
              "</div>\n",
              "      <button class=\"colab-df-convert\" onclick=\"convertToInteractive('df-7334de80-e568-4f7d-9c4c-c95dcc47ce11')\"\n",
              "              title=\"Convert this dataframe to an interactive table.\"\n",
              "              style=\"display:none;\">\n",
              "        \n",
              "  <svg xmlns=\"http://www.w3.org/2000/svg\" height=\"24px\"viewBox=\"0 0 24 24\"\n",
              "       width=\"24px\">\n",
              "    <path d=\"M0 0h24v24H0V0z\" fill=\"none\"/>\n",
              "    <path d=\"M18.56 5.44l.94 2.06.94-2.06 2.06-.94-2.06-.94-.94-2.06-.94 2.06-2.06.94zm-11 1L8.5 8.5l.94-2.06 2.06-.94-2.06-.94L8.5 2.5l-.94 2.06-2.06.94zm10 10l.94 2.06.94-2.06 2.06-.94-2.06-.94-.94-2.06-.94 2.06-2.06.94z\"/><path d=\"M17.41 7.96l-1.37-1.37c-.4-.4-.92-.59-1.43-.59-.52 0-1.04.2-1.43.59L10.3 9.45l-7.72 7.72c-.78.78-.78 2.05 0 2.83L4 21.41c.39.39.9.59 1.41.59.51 0 1.02-.2 1.41-.59l7.78-7.78 2.81-2.81c.8-.78.8-2.07 0-2.86zM5.41 20L4 18.59l7.72-7.72 1.47 1.35L5.41 20z\"/>\n",
              "  </svg>\n",
              "      </button>\n",
              "      \n",
              "  <style>\n",
              "    .colab-df-container {\n",
              "      display:flex;\n",
              "      flex-wrap:wrap;\n",
              "      gap: 12px;\n",
              "    }\n",
              "\n",
              "    .colab-df-convert {\n",
              "      background-color: #E8F0FE;\n",
              "      border: none;\n",
              "      border-radius: 50%;\n",
              "      cursor: pointer;\n",
              "      display: none;\n",
              "      fill: #1967D2;\n",
              "      height: 32px;\n",
              "      padding: 0 0 0 0;\n",
              "      width: 32px;\n",
              "    }\n",
              "\n",
              "    .colab-df-convert:hover {\n",
              "      background-color: #E2EBFA;\n",
              "      box-shadow: 0px 1px 2px rgba(60, 64, 67, 0.3), 0px 1px 3px 1px rgba(60, 64, 67, 0.15);\n",
              "      fill: #174EA6;\n",
              "    }\n",
              "\n",
              "    [theme=dark] .colab-df-convert {\n",
              "      background-color: #3B4455;\n",
              "      fill: #D2E3FC;\n",
              "    }\n",
              "\n",
              "    [theme=dark] .colab-df-convert:hover {\n",
              "      background-color: #434B5C;\n",
              "      box-shadow: 0px 1px 3px 1px rgba(0, 0, 0, 0.15);\n",
              "      filter: drop-shadow(0px 1px 2px rgba(0, 0, 0, 0.3));\n",
              "      fill: #FFFFFF;\n",
              "    }\n",
              "  </style>\n",
              "\n",
              "      <script>\n",
              "        const buttonEl =\n",
              "          document.querySelector('#df-7334de80-e568-4f7d-9c4c-c95dcc47ce11 button.colab-df-convert');\n",
              "        buttonEl.style.display =\n",
              "          google.colab.kernel.accessAllowed ? 'block' : 'none';\n",
              "\n",
              "        async function convertToInteractive(key) {\n",
              "          const element = document.querySelector('#df-7334de80-e568-4f7d-9c4c-c95dcc47ce11');\n",
              "          const dataTable =\n",
              "            await google.colab.kernel.invokeFunction('convertToInteractive',\n",
              "                                                     [key], {});\n",
              "          if (!dataTable) return;\n",
              "\n",
              "          const docLinkHtml = 'Like what you see? Visit the ' +\n",
              "            '<a target=\"_blank\" href=https://colab.research.google.com/notebooks/data_table.ipynb>data table notebook</a>'\n",
              "            + ' to learn more about interactive tables.';\n",
              "          element.innerHTML = '';\n",
              "          dataTable['output_type'] = 'display_data';\n",
              "          await google.colab.output.renderOutput(dataTable, element);\n",
              "          const docLink = document.createElement('div');\n",
              "          docLink.innerHTML = docLinkHtml;\n",
              "          element.appendChild(docLink);\n",
              "        }\n",
              "      </script>\n",
              "    </div>\n",
              "  </div>\n",
              "  "
            ]
          },
          "metadata": {},
          "execution_count": 175
        }
      ],
      "source": [
        "pd.DataFrame(grid_search.cv_results_)"
      ]
    },
    {
      "cell_type": "code",
      "execution_count": 205,
      "id": "c13ddef8-9fe5-48c3-892b-514cae0ff0cb",
      "metadata": {
        "colab": {
          "base_uri": "https://localhost:8080/"
        },
        "id": "c13ddef8-9fe5-48c3-892b-514cae0ff0cb",
        "outputId": "646913e9-c9d3-49dd-9620-261321de4413"
      },
      "outputs": [
        {
          "output_type": "execute_result",
          "data": {
            "text/plain": [
              "Pipeline(steps=[('preproc',\n",
              "                 ColumnTransformer(remainder='passthrough',\n",
              "                                   transformers=[('cat_pipe',\n",
              "                                                  Pipeline(steps=[('cat_impute',\n",
              "                                                                   SimpleImputer(strategy='most_frequent')),\n",
              "                                                                  ('onehot_cat',\n",
              "                                                                   OneHotEncoder(drop='if_binary'))]),\n",
              "                                                  <sklearn.compose._column_transformer.make_column_selector object at 0x7f74504f1fd0>),\n",
              "                                                 ('num_pipe',\n",
              "                                                  Pipeline(steps=[('impute_num',\n",
              "                                                                   SimpleImputer(strategy='median')),\n",
              "                                                                  ('scale_num',\n",
              "                                                                   StandardScaler())]),\n",
              "                                                  <sklearn.compose._column_transformer.make_column_selector object at 0x7f74504f1210>)])),\n",
              "                ('mdl',\n",
              "                 RandomForestClassifier(max_depth=15, n_estimators=500))])"
            ]
          },
          "metadata": {},
          "execution_count": 205
        }
      ],
      "source": [
        "grid_search.best_estimator_"
      ]
    },
    {
      "cell_type": "code",
      "execution_count": 206,
      "id": "686c502f-7bd9-4bb6-8477-b055767db77d",
      "metadata": {
        "colab": {
          "base_uri": "https://localhost:8080/"
        },
        "id": "686c502f-7bd9-4bb6-8477-b055767db77d",
        "outputId": "e49673b8-7f51-4484-eeb5-33014c7f1a68"
      },
      "outputs": [
        {
          "output_type": "execute_result",
          "data": {
            "text/plain": [
              "array(['female', 'male'], dtype=object)"
            ]
          },
          "metadata": {},
          "execution_count": 206
        }
      ],
      "source": [
        "grid_search.classes_"
      ]
    },
    {
      "cell_type": "code",
      "execution_count": 207,
      "id": "91d03e13-ce53-4396-953b-93b6ee991634",
      "metadata": {
        "colab": {
          "base_uri": "https://localhost:8080/"
        },
        "id": "91d03e13-ce53-4396-953b-93b6ee991634",
        "outputId": "a2db57d5-454b-4a34-e76e-3004dd8add0e"
      },
      "outputs": [
        {
          "output_type": "execute_result",
          "data": {
            "text/plain": [
              "array([0.02716656, 0.01318347, 0.02098389, 0.01187497, 0.00831901,\n",
              "       0.00578152, 0.20739334, 0.27123514, 0.11323453, 0.29978677,\n",
              "       0.0210408 ])"
            ]
          },
          "metadata": {},
          "execution_count": 207
        }
      ],
      "source": [
        "vip = grid_search.best_estimator_['mdl'].feature_importances_\n",
        "vip"
      ]
    },
    {
      "cell_type": "code",
      "execution_count": 208,
      "id": "f467cf24-1f0a-4967-8552-929843bfa5d3",
      "metadata": {
        "colab": {
          "base_uri": "https://localhost:8080/",
          "height": 335
        },
        "id": "f467cf24-1f0a-4967-8552-929843bfa5d3",
        "outputId": "3a31cef7-63be-4bb0-8399-cc7376c91883"
      },
      "outputs": [
        {
          "output_type": "stream",
          "name": "stderr",
          "text": [
            "/usr/local/lib/python3.7/dist-packages/sklearn/utils/deprecation.py:87: FutureWarning: Function get_feature_names is deprecated; get_feature_names is deprecated in 1.0 and will be removed in 1.2. Please use get_feature_names_out instead.\n",
            "  warnings.warn(msg, category=FutureWarning)\n"
          ]
        },
        {
          "output_type": "display_data",
          "data": {
            "text/plain": [
              "<Figure size 432x288 with 1 Axes>"
            ],
            "image/png": "[encoded data removed]"
          },
          "metadata": {
            "needs_background": "light"
          }
        }
      ],
      "source": [
        "#get names in correct preproc order\n",
        "cat_names = grid_search.best_estimator_.named_steps['preproc'].transformers_[0][1].named_steps['onehot_cat'].get_feature_names()\n",
        "num_names = grid_search.best_estimator_.named_steps['preproc'].transformers_[1][2]\n",
        "\n",
        "#create df with vip info\n",
        "coef_info = pd.DataFrame({'feat_names':np.hstack([cat_names, num_names]), 'vip': vip})\n",
        "\n",
        "#get sign and magnitude information\n",
        "coef_info = coef_info.assign(coef_mag = abs(coef_info['vip']),\n",
        "                             coef_sign = np.sign(coef_info['vip']))\n",
        "\n",
        "#sort and plot\n",
        "coef_info = coef_info.set_index('feat_names').sort_values(by='coef_mag', ascending=False)\n",
        "sns.barplot(y=coef_info.index, x='coef_mag', hue='coef_sign', data=coef_info, orient='h', dodge=False);"
      ]
    },
    {
      "cell_type": "code",
      "execution_count": 209,
      "id": "c8492e28-8801-49ac-90d8-d23aa654d98b",
      "metadata": {
        "colab": {
          "base_uri": "https://localhost:8080/"
        },
        "id": "c8492e28-8801-49ac-90d8-d23aa654d98b",
        "outputId": "c8251311-267f-4547-cfa3-525c812b181e"
      },
      "outputs": [
        {
          "output_type": "stream",
          "name": "stdout",
          "text": [
            "              precision    recall  f1-score   support\n",
            "\n",
            "      female       0.89      0.93      0.91        42\n",
            "        male       0.93      0.88      0.90        42\n",
            "\n",
            "    accuracy                           0.90        84\n",
            "   macro avg       0.91      0.90      0.90        84\n",
            "weighted avg       0.91      0.90      0.90        84\n",
            "\n"
          ]
        }
      ],
      "source": [
        "print(classification_report(y_test, grid_search.best_estimator_.predict(X_test)))"
      ]
    },
    {
      "cell_type": "code",
      "execution_count": 210,
      "id": "9465fbec-8727-41f0-a242-ca804a752948",
      "metadata": {
        "colab": {
          "base_uri": "https://localhost:8080/",
          "height": 279
        },
        "id": "9465fbec-8727-41f0-a242-ca804a752948",
        "outputId": "eb678550-8776-4a15-a85c-2d101900f5e9"
      },
      "outputs": [
        {
          "output_type": "display_data",
          "data": {
            "text/plain": [
              "<Figure size 432x288 with 2 Axes>"
            ],
            "image/png": "[encoded data removed]"
          },
          "metadata": {
            "needs_background": "light"
          }
        }
      ],
      "source": [
        "cm = confusion_matrix(y_test, grid_search.best_estimator_.predict(X_test))\n",
        "disp = ConfusionMatrixDisplay(confusion_matrix=cm,\n",
        "                               display_labels=grid_search.classes_)\n",
        "disp.plot()\n",
        "\n",
        "plt.show()"
      ]
    },
    {
      "cell_type": "markdown",
      "source": [
        "**ASSIGNMENT**\n",
        "\n",
        "\n"
      ],
      "metadata": {
        "id": "xqDExwiLnZg_"
      },
      "id": "xqDExwiLnZg_"
    },
    {
      "cell_type": "markdown",
      "source": [
        "\n",
        "**1.) Build ROC Curve and Precision-Recal Curve**\n"
      ],
      "metadata": {
        "id": "58uDaJ3Gnle1"
      },
      "id": "58uDaJ3Gnle1"
    },
    {
      "cell_type": "code",
      "source": [
        "import matplotlib.pyplot as plt\n",
        "from sklearn import datasets, metrics, model_selection\n",
        "from sklearn.metrics import accuracy_score, precision_score, recall_score, f1_score, roc_auc_score, roc_curve\n",
        "from sklearn.metrics import PrecisionRecallDisplay\n",
        "\n",
        "probabilities = [max(y_prob) for y_prob in grid_search.best_estimator_.predict_proba(X_test)]\n",
        "fpr, tpr, thresholds = metrics.roc_curve(y_test, probabilities, pos_label='female')\n",
        "\n",
        "print(probabilities)\n",
        "print(y_test)\n",
        "optimal_idx = np.argmax(tpr - fpr)\n",
        "print(optimal_idx)\n",
        "optimal_threshold = thresholds[optimal_idx]\n",
        "\n",
        "print(f\"Optimal Threshold: {optimal_threshold}\")\n",
        "\n",
        "\n",
        "metrics.plot_roc_curve(grid_search.best_estimator_, X_test, y_test) \n",
        "plt.plot()\n",
        "plt.show()\n",
        "\n",
        "display = PrecisionRecallDisplay.from_estimator(\n",
        "    grid_search.best_estimator_, X_test, y_test, name=\"RandomForest\"\n",
        ")\n",
        "\n",
        "y_pred = (grid_search.best_estimator_.predict_proba(X_test)[:,1] >= optimal_threshold).astype(bool)\n",
        "values = {True: \"female\", False: \"male\"}\n",
        "y_pred = [values[y] for y in y_pred]\n",
        "\n",
        "cm = confusion_matrix(y_test, y_pred)\n",
        "disp = ConfusionMatrixDisplay(confusion_matrix=cm,\n",
        "                               display_labels=grid_search.classes_)\n",
        "disp.plot()\n",
        "\n",
        "plt.show()\n",
        "\n"
      ],
      "metadata": {
        "colab": {
          "base_uri": "https://localhost:8080/",
          "height": 1000
        },
        "id": "uj2UnblWnoIg",
        "outputId": "10088d1d-c60d-4140-80bd-f3fb48befb19"
      },
      "id": "uj2UnblWnoIg",
      "execution_count": 211,
      "outputs": [
        {
          "output_type": "stream",
          "name": "stdout",
          "text": [
            "[0.984, 0.98, 0.976, 0.658, 0.95, 0.992, 0.916, 0.988, 0.99, 1.0, 0.63, 0.718, 0.72, 0.552, 0.91, 0.852, 0.77, 0.592, 0.552, 0.982, 0.958, 0.988, 0.856, 0.98, 0.866, 0.504, 0.964, 0.976, 0.776, 0.994, 0.738, 0.902, 0.992, 0.998, 0.988, 0.996, 1.0, 0.91, 0.976, 0.902, 0.524, 0.988, 0.98, 0.638, 0.89, 0.824, 0.986, 0.646, 0.92, 0.998, 0.578, 1.0, 0.99, 0.854, 0.984, 0.526, 0.962, 0.964, 0.956, 0.626, 0.514, 0.998, 0.574, 0.996, 0.516, 0.972, 0.962, 0.992, 0.81, 0.984, 0.878, 0.92, 0.784, 0.73, 0.988, 0.644, 0.976, 0.936, 0.976, 0.724, 0.986, 0.996, 0.994, 0.998]\n",
            "308    female\n",
            "120    female\n",
            "206    female\n",
            "106    female\n",
            "99       male\n",
            "        ...  \n",
            "165      male\n",
            "342      male\n",
            "202    female\n",
            "273      male\n",
            "253      male\n",
            "Name: sex, Length: 84, dtype: object\n",
            "23\n",
            "Optimal Threshold: 0.866\n"
          ]
        },
        {
          "output_type": "stream",
          "name": "stderr",
          "text": [
            "/usr/local/lib/python3.7/dist-packages/sklearn/utils/deprecation.py:87: FutureWarning: Function plot_roc_curve is deprecated; Function :func:`plot_roc_curve` is deprecated in 1.0 and will be removed in 1.2. Use one of the class methods: :meth:`sklearn.metric.RocCurveDisplay.from_predictions` or :meth:`sklearn.metric.RocCurveDisplay.from_estimator`.\n",
            "  warnings.warn(msg, category=FutureWarning)\n"
          ]
        },
        {
          "output_type": "display_data",
          "data": {
            "text/plain": [
              "<Figure size 432x288 with 1 Axes>"
            ],
            "image/png": "[encoded data removed]"
          },
          "metadata": {
            "needs_background": "light"
          }
        },
        {
          "output_type": "display_data",
          "data": {
            "text/plain": [
              "<Figure size 432x288 with 1 Axes>"
            ],
            "image/png": "[encoded data removed]"
          },
          "metadata": {
            "needs_background": "light"
          }
        },
        {
          "output_type": "display_data",
          "data": {
            "text/plain": [
              "<Figure size 432x288 with 2 Axes>"
            ],
            "image/png": "[encoded data removed]"
          },
          "metadata": {
            "needs_background": "light"
          }
        }
      ]
    },
    {
      "cell_type": "markdown",
      "source": [
        "**2.) Changing class weights**"
      ],
      "metadata": {
        "id": "B4AezmdTyrO7"
      },
      "id": "B4AezmdTyrO7"
    },
    {
      "cell_type": "code",
      "source": [
        "#individual pipelines for differing datatypes\n",
        "cat_pipeline = Pipeline(steps=[('cat_impute', SimpleImputer(missing_values=np.nan, strategy='most_frequent')),\n",
        "                               ('onehot_cat', OneHotEncoder(drop='if_binary'))])\n",
        "num_pipeline = Pipeline(steps=[('impute_num', SimpleImputer(missing_values=np.nan, strategy='median')),\n",
        "                               ('scale_num', StandardScaler())])\n",
        "\n",
        "#establish preprocessing pipeline by columns\n",
        "preproc = ColumnTransformer([('cat_pipe', cat_pipeline, make_column_selector(dtype_include=object)),\n",
        "                             ('num_pipe', num_pipeline, make_column_selector(dtype_include=np.number))],\n",
        "                             remainder='passthrough')"
      ],
      "metadata": {
        "id": "hqJwproK3V0a"
      },
      "id": "hqJwproK3V0a",
      "execution_count": 119,
      "outputs": []
    },
    {
      "cell_type": "code",
      "source": [
        "pipe = Pipeline(steps=[('preproc', preproc),\n",
        "                       ('mdl', RandomForestClassifier(class_weight={\"male\": 1.25, \"female\": 0.5}))])"
      ],
      "metadata": {
        "id": "_1PuT8XP3Yq7"
      },
      "id": "_1PuT8XP3Yq7",
      "execution_count": 188,
      "outputs": []
    },
    {
      "cell_type": "code",
      "source": [
        "tuning_grid = {'mdl__n_estimators' : [100, 200 ,500],\n",
        "               'mdl__max_depth': [10, 15, 20] }\n",
        "grid_search = GridSearchCV(pipe, param_grid = tuning_grid, cv = 5, return_train_score=True)"
      ],
      "metadata": {
        "id": "Vp4Ezj8_3cBC"
      },
      "id": "Vp4Ezj8_3cBC",
      "execution_count": 189,
      "outputs": []
    },
    {
      "cell_type": "code",
      "source": [
        "grid_search.fit(X_train, y_train)"
      ],
      "metadata": {
        "colab": {
          "base_uri": "https://localhost:8080/"
        },
        "id": "oT-iC7qx3fKI",
        "outputId": "aff2c292-bec0-43a6-a4ec-b5c89de59b9b"
      },
      "id": "oT-iC7qx3fKI",
      "execution_count": 190,
      "outputs": [
        {
          "output_type": "execute_result",
          "data": {
            "text/plain": [
              "GridSearchCV(cv=5,\n",
              "             estimator=Pipeline(steps=[('preproc',\n",
              "                                        ColumnTransformer(remainder='passthrough',\n",
              "                                                          transformers=[('cat_pipe',\n",
              "                                                                         Pipeline(steps=[('cat_impute',\n",
              "                                                                                          SimpleImputer(strategy='most_frequent')),\n",
              "                                                                                         ('onehot_cat',\n",
              "                                                                                          OneHotEncoder(drop='if_binary'))]),\n",
              "                                                                         <sklearn.compose._column_transformer.make_column_selector object at 0x7f74501fbad0>),\n",
              "                                                                        ('num_pipe',\n",
              "                                                                         Pipeline(steps=[('impute_num',\n",
              "                                                                                          SimpleImputer(strategy='median')),\n",
              "                                                                                         ('scale_num',\n",
              "                                                                                          StandardScaler())]),\n",
              "                                                                         <sklearn.compose._column_transformer.make_column_selector object at 0x7f74500c6090>)])),\n",
              "                                       ('mdl',\n",
              "                                        RandomForestClassifier(class_weight={'female': 0.5,\n",
              "                                                                             'male': 1.25}))]),\n",
              "             param_grid={'mdl__max_depth': [10, 15, 20],\n",
              "                         'mdl__n_estimators': [100, 200, 500]},\n",
              "             return_train_score=True)"
            ]
          },
          "metadata": {},
          "execution_count": 190
        }
      ]
    },
    {
      "cell_type": "code",
      "source": [
        "cat_names = grid_search.best_estimator_.named_steps['preproc'].transformers_[0][1].named_steps['onehot_cat'].get_feature_names()\n",
        "num_names = grid_search.best_estimator_.named_steps['preproc'].transformers_[1][2]\n",
        "\n",
        "#create df with vip info\n",
        "coef_info = pd.DataFrame({'feat_names':np.hstack([cat_names, num_names]), 'vip': vip})\n",
        "\n",
        "#get sign and magnitude information\n",
        "coef_info = coef_info.assign(coef_mag = abs(coef_info['vip']),\n",
        "                             coef_sign = np.sign(coef_info['vip']))\n",
        "\n",
        "#sort and plot\n",
        "coef_info = coef_info.set_index('feat_names').sort_values(by='coef_mag', ascending=False)\n",
        "sns.barplot(y=coef_info.index, x='coef_mag', hue='coef_sign', data=coef_info, orient='h', dodge=False);"
      ],
      "metadata": {
        "colab": {
          "base_uri": "https://localhost:8080/",
          "height": 335
        },
        "id": "7WrMCB6v3hgl",
        "outputId": "1774ae9d-d14e-49a3-cf00-73f9ba1b17e0"
      },
      "id": "7WrMCB6v3hgl",
      "execution_count": 191,
      "outputs": [
        {
          "output_type": "stream",
          "name": "stderr",
          "text": [
            "/usr/local/lib/python3.7/dist-packages/sklearn/utils/deprecation.py:87: FutureWarning: Function get_feature_names is deprecated; get_feature_names is deprecated in 1.0 and will be removed in 1.2. Please use get_feature_names_out instead.\n",
            "  warnings.warn(msg, category=FutureWarning)\n"
          ]
        },
        {
          "output_type": "display_data",
          "data": {
            "text/plain": [
              "<Figure size 432x288 with 1 Axes>"
            ],
            "image/png": "[encoded data removed]"
          },
          "metadata": {
            "needs_background": "light"
          }
        }
      ]
    },
    {
      "cell_type": "code",
      "source": [
        "cm = confusion_matrix(y_test, grid_search.best_estimator_.predict(X_test))\n",
        "disp = ConfusionMatrixDisplay(confusion_matrix=cm,\n",
        "                               display_labels=grid_search.classes_)\n",
        "disp.plot()\n",
        "\n",
        "plt.show()"
      ],
      "metadata": {
        "colab": {
          "base_uri": "https://localhost:8080/",
          "height": 279
        },
        "id": "AB9OFbx_4xHC",
        "outputId": "64152abc-5dc1-4f95-8b90-af8f149d9fae"
      },
      "id": "AB9OFbx_4xHC",
      "execution_count": 192,
      "outputs": [
        {
          "output_type": "display_data",
          "data": {
            "text/plain": [
              "<Figure size 432x288 with 2 Axes>"
            ],
            "image/png": "[encoded data removed]"
          },
          "metadata": {
            "needs_background": "light"
          }
        }
      ]
    },
    {
      "cell_type": "code",
      "source": [
        "probabilities = [max(y_prob) for y_prob in grid_search.best_estimator_.predict_proba(X_test)]\n",
        "fpr, tpr, thresholds = metrics.roc_curve(y_test, probabilities, pos_label='male')\n",
        "\n",
        "\n",
        "optimal_idx = np.argmax(tpr - fpr)\n",
        "optimal_threshold = thresholds[optimal_idx]\n",
        "\n",
        "print(f\"Optimal Threshold: {optimal_threshold}\")\n",
        "\n",
        "metrics.plot_roc_curve(grid_search.best_estimator_, X_test, y_test) \n",
        "plt.plot()\n",
        "plt.show()\n"
      ],
      "metadata": {
        "colab": {
          "base_uri": "https://localhost:8080/",
          "height": 351
        },
        "id": "h7-4TxKB-yki",
        "outputId": "dce23bdf-2acb-4329-9c8b-10749808742c"
      },
      "id": "h7-4TxKB-yki",
      "execution_count": 193,
      "outputs": [
        {
          "output_type": "stream",
          "name": "stdout",
          "text": [
            "Optimal Threshold: 0.52\n"
          ]
        },
        {
          "output_type": "stream",
          "name": "stderr",
          "text": [
            "/usr/local/lib/python3.7/dist-packages/sklearn/utils/deprecation.py:87: FutureWarning: Function plot_roc_curve is deprecated; Function :func:`plot_roc_curve` is deprecated in 1.0 and will be removed in 1.2. Use one of the class methods: :meth:`sklearn.metric.RocCurveDisplay.from_predictions` or :meth:`sklearn.metric.RocCurveDisplay.from_estimator`.\n",
            "  warnings.warn(msg, category=FutureWarning)\n"
          ]
        },
        {
          "output_type": "display_data",
          "data": {
            "text/plain": [
              "<Figure size 432x288 with 1 Axes>"
            ],
            "image/png": "[encoded data removed]"
          },
          "metadata": {
            "needs_background": "light"
          }
        }
      ]
    }
  ],
  "metadata": {
    "kernelspec": {
      "display_name": "Python 3 (ipykernel)",
      "language": "python",
      "name": "python3"
    },
    "language_info": {
      "codemirror_mode": {
        "name": "ipython",
        "version": 3
      },
      "file_extension": ".py",
      "mimetype": "text/x-python",
      "name": "python",
      "nbconvert_exporter": "python",
      "pygments_lexer": "ipython3",
      "version": "3.8.8"
    },
    "colab": {
      "name": "week4_assignment_part1 (1).ipynb",
      "provenance": [],
      "include_colab_link": true
    }
  },
  "nbformat": 4,
  "nbformat_minor": 5
}